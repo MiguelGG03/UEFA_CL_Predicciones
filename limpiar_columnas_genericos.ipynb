{
 "cells": [
  {
   "cell_type": "markdown",
   "metadata": {},
   "source": [
    "# Usaremos este notebook para quitar las columnas que no son relevantes (o si lo son pero no las voy a usar)"
   ]
  },
  {
   "cell_type": "code",
   "execution_count": 26,
   "metadata": {},
   "outputs": [],
   "source": [
    "import pandas as pd\n",
    "from csv_2_json import ruta"
   ]
  },
  {
   "cell_type": "code",
   "execution_count": 27,
   "metadata": {},
   "outputs": [],
   "source": [
    "df1 = pd.read_csv(ruta('ucl_player_playing_time.csv'))"
   ]
  },
  {
   "cell_type": "code",
   "execution_count": 28,
   "metadata": {},
   "outputs": [
    {
     "data": {
      "text/html": [
       "<div>\n",
       "<style scoped>\n",
       "    .dataframe tbody tr th:only-of-type {\n",
       "        vertical-align: middle;\n",
       "    }\n",
       "\n",
       "    .dataframe tbody tr th {\n",
       "        vertical-align: top;\n",
       "    }\n",
       "\n",
       "    .dataframe thead th {\n",
       "        text-align: right;\n",
       "    }\n",
       "</style>\n",
       "<table border=\"1\" class=\"dataframe\">\n",
       "  <thead>\n",
       "    <tr style=\"text-align: right;\">\n",
       "      <th></th>\n",
       "      <th>Player</th>\n",
       "      <th>Nationality</th>\n",
       "      <th>Position</th>\n",
       "      <th>Club</th>\n",
       "      <th>Age</th>\n",
       "      <th>Born</th>\n",
       "      <th>MP</th>\n",
       "      <th>Min</th>\n",
       "      <th>Mn/MP</th>\n",
       "      <th>Min%</th>\n",
       "      <th>...</th>\n",
       "      <th>onG</th>\n",
       "      <th>onGA</th>\n",
       "      <th>#ERROR!</th>\n",
       "      <th>#ERROR!.1</th>\n",
       "      <th>On-Off</th>\n",
       "      <th>onxG</th>\n",
       "      <th>onxGA</th>\n",
       "      <th>xG+/-</th>\n",
       "      <th>xG+/-90</th>\n",
       "      <th>On-Off.1</th>\n",
       "    </tr>\n",
       "  </thead>\n",
       "  <tbody>\n",
       "    <tr>\n",
       "      <th>567</th>\n",
       "      <td>Nacho</td>\n",
       "      <td>ESP</td>\n",
       "      <td>DF</td>\n",
       "      <td>Real Madrid</td>\n",
       "      <td>32</td>\n",
       "      <td>1990</td>\n",
       "      <td>8</td>\n",
       "      <td>440</td>\n",
       "      <td>55.0</td>\n",
       "      <td>40.7</td>\n",
       "      <td>...</td>\n",
       "      <td>10.0</td>\n",
       "      <td>4.0</td>\n",
       "      <td>6.0</td>\n",
       "      <td>1.23</td>\n",
       "      <td>0.24</td>\n",
       "      <td>7.1</td>\n",
       "      <td>3.3</td>\n",
       "      <td>3.9</td>\n",
       "      <td>0.79</td>\n",
       "      <td>0.44</td>\n",
       "    </tr>\n",
       "  </tbody>\n",
       "</table>\n",
       "<p>1 rows × 28 columns</p>\n",
       "</div>"
      ],
      "text/plain": [
       "    Player Nationality Position         Club  Age  Born  MP  Min  Mn/MP  Min%  \\\n",
       "567  Nacho         ESP       DF  Real Madrid   32  1990   8  440   55.0  40.7   \n",
       "\n",
       "     ...   onG  onGA  #ERROR!  #ERROR!.1  On-Off  onxG  onxGA  xG+/-  xG+/-90  \\\n",
       "567  ...  10.0   4.0      6.0       1.23    0.24   7.1    3.3    3.9     0.79   \n",
       "\n",
       "     On-Off.1  \n",
       "567      0.44  \n",
       "\n",
       "[1 rows x 28 columns]"
      ]
     },
     "execution_count": 28,
     "metadata": {},
     "output_type": "execute_result"
    }
   ],
   "source": [
    "df1[df1['Player'] == 'Nacho'].head()"
   ]
  },
  {
   "cell_type": "code",
   "execution_count": 29,
   "metadata": {},
   "outputs": [
    {
     "data": {
      "text/plain": [
       "Index(['Player', 'Nationality', 'Position', 'Club', 'Age', 'Born', 'MP', 'Min',\n",
       "       'Mn/MP', 'Min%', '90s', 'Starts', 'Mn/Start', 'Compl', 'Subs', 'Mn/Sub',\n",
       "       'unSub', 'PPM', 'onG', 'onGA', '#ERROR!', '#ERROR!.1', 'On-Off', 'onxG',\n",
       "       'onxGA', 'xG+/-', 'xG+/-90', 'On-Off.1'],\n",
       "      dtype='object')"
      ]
     },
     "execution_count": 29,
     "metadata": {},
     "output_type": "execute_result"
    }
   ],
   "source": [
    "df1.columns"
   ]
  },
  {
   "cell_type": "markdown",
   "metadata": {},
   "source": [
    "1. **Player**: Nombre del jugador.\n",
    "2. **Nationality**: Nacionalidad del jugador.\n",
    "3. **Position**: Posición en la que juega en el campo.\n",
    "4. **Club**: Club de fútbol al que pertenece el jugador.\n",
    "5. **Age**: Edad del jugador.\n",
    "6. **Born**: Año de nacimiento del jugador.\n",
    "7. **MP (Matches Played)**: Partidos jugados.\n",
    "8. **Min (Minutes)**: Minutos jugados.\n",
    "9. **Mn/MP (Minutes per Match Played)**: Promedio de minutos jugados por partido.\n",
    "10. **Min% (Percentage of Minutes)**: Porcentaje de minutos jugados respecto al total posible.\n",
    "11. **90s**: Número de partidos completos jugados (normalmente un partido tiene 90 minutos).\n",
    "12. **Starts**: Partidos en los que el jugador comenzó como titular.\n",
    "13. **Mn/Start (Minutes per Start)**: Promedio de minutos jugados en los partidos que comenzó como titular.\n",
    "14. **Compl (Complete Games)**: Partidos completados (sin ser sustituido).\n",
    "15. **Subs**: Veces que el jugador ha entrado como sustituto.\n",
    "16. **Mn/Sub (Minutes per Substitute Appearance)**: Promedio de minutos jugados por aparición como sustituto.\n",
    "17. **unSub (Unused Substitute)**: Veces que el jugador estuvo en el banquillo y no fue utilizado.\n",
    "18. **PPM (Points per Match)**: Puntos ganados por partido jugado.\n",
    "19. **onG (Goals On Field)**: Goles anotados mientras el jugador estaba en el campo.\n",
    "20. **onGA (Goals Against On Field)**: Goles recibidos mientras el jugador estaba en el campo.\n",
    "21. **On-Off**: Diferencia de goles (favor-contra) con el jugador en el campo comparado con fuera de él.\n",
    "22. **onxG (on Expected Goals)**: Goles esperados anotados mientras el jugador estaba en el campo.\n",
    "23. **onxGA (on Expected Goals Against)**: Goles esperados en contra mientras el jugador estaba en el campo.\n",
    "24. **xG+/- (Expected Goals Difference)**: Diferencia entre los goles esperados a favor y en contra.\n",
    "25. **xG+/-90 (Expected Goals Difference per 90 Minutes)**: Diferencia de goles esperados por cada 90 minutos jugados.\n",
    "26. **On-Off.1**: Este campo parece ser una repetición del anterior On-Off y podría referirse a otro tipo de métrica diferencial cuando el jugador está o no en el campo, tal como impacto en el xG."
   ]
  },
  {
   "cell_type": "code",
   "execution_count": 30,
   "metadata": {},
   "outputs": [],
   "source": [
    "columnas_a_dropear = ['MP','Min','Min%','90s','Starts','Subs','On-Off.1','#ERROR!','#ERROR!.1']\n",
    "df1.drop(columns=columnas_a_dropear, axis=1, inplace=True)\n",
    "df1.fillna(0, inplace=True)"
   ]
  },
  {
   "cell_type": "code",
   "execution_count": 31,
   "metadata": {},
   "outputs": [
    {
     "data": {
      "text/plain": [
       "Index(['Player', 'Nationality', 'Position', 'Club', 'Age', 'Born', 'Mn/MP',\n",
       "       'Mn/Start', 'Compl', 'Mn/Sub', 'unSub', 'PPM', 'onG', 'onGA', 'On-Off',\n",
       "       'onxG', 'onxGA', 'xG+/-', 'xG+/-90'],\n",
       "      dtype='object')"
      ]
     },
     "execution_count": 31,
     "metadata": {},
     "output_type": "execute_result"
    }
   ],
   "source": [
    "df1.columns"
   ]
  },
  {
   "cell_type": "code",
   "execution_count": 32,
   "metadata": {},
   "outputs": [],
   "source": [
    "df1.to_csv(r'docs\\data\\limpio\\ucl_player_playing_time.csv')"
   ]
  },
  {
   "cell_type": "markdown",
   "metadata": {},
   "source": [
    "## Segundo dataframe"
   ]
  },
  {
   "cell_type": "code",
   "execution_count": 33,
   "metadata": {},
   "outputs": [],
   "source": [
    "df2 = pd.read_csv(ruta('ucl_miscellanous.csv'))"
   ]
  },
  {
   "cell_type": "code",
   "execution_count": 34,
   "metadata": {},
   "outputs": [
    {
     "data": {
      "text/html": [
       "<div>\n",
       "<style scoped>\n",
       "    .dataframe tbody tr th:only-of-type {\n",
       "        vertical-align: middle;\n",
       "    }\n",
       "\n",
       "    .dataframe tbody tr th {\n",
       "        vertical-align: top;\n",
       "    }\n",
       "\n",
       "    .dataframe thead th {\n",
       "        text-align: right;\n",
       "    }\n",
       "</style>\n",
       "<table border=\"1\" class=\"dataframe\">\n",
       "  <thead>\n",
       "    <tr style=\"text-align: right;\">\n",
       "      <th></th>\n",
       "      <th>Player</th>\n",
       "      <th>Nationality</th>\n",
       "      <th>Position</th>\n",
       "      <th>Club</th>\n",
       "      <th>Age</th>\n",
       "      <th>Born</th>\n",
       "      <th>90s</th>\n",
       "      <th>Yellow Cards</th>\n",
       "      <th>Red Cards</th>\n",
       "      <th>2nd Yellows</th>\n",
       "      <th>...</th>\n",
       "      <th>Interceptions</th>\n",
       "      <th>Tackles won</th>\n",
       "      <th>penalties won</th>\n",
       "      <th>penalties comitted</th>\n",
       "      <th>own goals</th>\n",
       "      <th>ball recoveries</th>\n",
       "      <th>Unnamed: 19</th>\n",
       "      <th>Unnamed: 20</th>\n",
       "      <th>Unnamed: 21</th>\n",
       "      <th>Unnamed: 22</th>\n",
       "    </tr>\n",
       "  </thead>\n",
       "  <tbody>\n",
       "    <tr>\n",
       "      <th>0</th>\n",
       "      <td>André Onana</td>\n",
       "      <td>CMR</td>\n",
       "      <td>GK</td>\n",
       "      <td>Inter</td>\n",
       "      <td>26</td>\n",
       "      <td>1996</td>\n",
       "      <td>13.0</td>\n",
       "      <td>2</td>\n",
       "      <td>0</td>\n",
       "      <td>0</td>\n",
       "      <td>...</td>\n",
       "      <td>0</td>\n",
       "      <td>0</td>\n",
       "      <td>0</td>\n",
       "      <td>0</td>\n",
       "      <td>0</td>\n",
       "      <td>0</td>\n",
       "      <td>8</td>\n",
       "      <td>3</td>\n",
       "      <td>1</td>\n",
       "      <td>75.0</td>\n",
       "    </tr>\n",
       "    <tr>\n",
       "      <th>1</th>\n",
       "      <td>Sandro Tonali</td>\n",
       "      <td>ITA</td>\n",
       "      <td>MF</td>\n",
       "      <td>Milan</td>\n",
       "      <td>22</td>\n",
       "      <td>2000</td>\n",
       "      <td>11.7</td>\n",
       "      <td>3</td>\n",
       "      <td>0</td>\n",
       "      <td>0</td>\n",
       "      <td>...</td>\n",
       "      <td>47</td>\n",
       "      <td>4</td>\n",
       "      <td>13</td>\n",
       "      <td>1</td>\n",
       "      <td>0</td>\n",
       "      <td>0</td>\n",
       "      <td>57</td>\n",
       "      <td>3</td>\n",
       "      <td>9</td>\n",
       "      <td>25.0</td>\n",
       "    </tr>\n",
       "    <tr>\n",
       "      <th>2</th>\n",
       "      <td>Rúben Dias</td>\n",
       "      <td>POR</td>\n",
       "      <td>DF</td>\n",
       "      <td>Manchester City</td>\n",
       "      <td>25</td>\n",
       "      <td>1997</td>\n",
       "      <td>11.7</td>\n",
       "      <td>2</td>\n",
       "      <td>0</td>\n",
       "      <td>0</td>\n",
       "      <td>...</td>\n",
       "      <td>2</td>\n",
       "      <td>7</td>\n",
       "      <td>18</td>\n",
       "      <td>0</td>\n",
       "      <td>0</td>\n",
       "      <td>0</td>\n",
       "      <td>55</td>\n",
       "      <td>22</td>\n",
       "      <td>15</td>\n",
       "      <td>59.5</td>\n",
       "    </tr>\n",
       "    <tr>\n",
       "      <th>3</th>\n",
       "      <td>Lautaro Martínez</td>\n",
       "      <td>ARG</td>\n",
       "      <td>FW</td>\n",
       "      <td>Inter</td>\n",
       "      <td>24</td>\n",
       "      <td>1997</td>\n",
       "      <td>11.1</td>\n",
       "      <td>3</td>\n",
       "      <td>0</td>\n",
       "      <td>0</td>\n",
       "      <td>...</td>\n",
       "      <td>3</td>\n",
       "      <td>9</td>\n",
       "      <td>12</td>\n",
       "      <td>0</td>\n",
       "      <td>0</td>\n",
       "      <td>0</td>\n",
       "      <td>35</td>\n",
       "      <td>16</td>\n",
       "      <td>25</td>\n",
       "      <td>39.0</td>\n",
       "    </tr>\n",
       "    <tr>\n",
       "      <th>4</th>\n",
       "      <td>Rodri</td>\n",
       "      <td>ESP</td>\n",
       "      <td>MF</td>\n",
       "      <td>Manchester City</td>\n",
       "      <td>26</td>\n",
       "      <td>1996</td>\n",
       "      <td>11.1</td>\n",
       "      <td>1</td>\n",
       "      <td>0</td>\n",
       "      <td>0</td>\n",
       "      <td>...</td>\n",
       "      <td>3</td>\n",
       "      <td>13</td>\n",
       "      <td>15</td>\n",
       "      <td>0</td>\n",
       "      <td>0</td>\n",
       "      <td>0</td>\n",
       "      <td>105</td>\n",
       "      <td>15</td>\n",
       "      <td>11</td>\n",
       "      <td>57.7</td>\n",
       "    </tr>\n",
       "  </tbody>\n",
       "</table>\n",
       "<p>5 rows × 23 columns</p>\n",
       "</div>"
      ],
      "text/plain": [
       "             Player Nationality Position             Club  Age  Born   90s  \\\n",
       "0       André Onana         CMR       GK            Inter   26  1996  13.0   \n",
       "1     Sandro Tonali         ITA       MF            Milan   22  2000  11.7   \n",
       "2        Rúben Dias         POR       DF  Manchester City   25  1997  11.7   \n",
       "3  Lautaro Martínez         ARG       FW            Inter   24  1997  11.1   \n",
       "4             Rodri         ESP       MF  Manchester City   26  1996  11.1   \n",
       "\n",
       "   Yellow Cards  Red Cards  2nd Yellows  ...  Interceptions  Tackles won  \\\n",
       "0             2          0            0  ...              0            0   \n",
       "1             3          0            0  ...             47            4   \n",
       "2             2          0            0  ...              2            7   \n",
       "3             3          0            0  ...              3            9   \n",
       "4             1          0            0  ...              3           13   \n",
       "\n",
       "   penalties won  penalties comitted  own goals   ball recoveries  \\\n",
       "0              0                   0           0                0   \n",
       "1             13                   1           0                0   \n",
       "2             18                   0           0                0   \n",
       "3             12                   0           0                0   \n",
       "4             15                   0           0                0   \n",
       "\n",
       "   Unnamed: 19  Unnamed: 20  Unnamed: 21  Unnamed: 22  \n",
       "0            8            3            1         75.0  \n",
       "1           57            3            9         25.0  \n",
       "2           55           22           15         59.5  \n",
       "3           35           16           25         39.0  \n",
       "4          105           15           11         57.7  \n",
       "\n",
       "[5 rows x 23 columns]"
      ]
     },
     "execution_count": 34,
     "metadata": {},
     "output_type": "execute_result"
    }
   ],
   "source": [
    "df2.head()"
   ]
  },
  {
   "cell_type": "code",
   "execution_count": 35,
   "metadata": {},
   "outputs": [
    {
     "data": {
      "text/plain": [
       "Index(['Player', 'Nationality', 'Position', 'Club', 'Age', 'Born', '90s',\n",
       "       'Yellow Cards', 'Red Cards', '2nd Yellows', 'Fouls Comitted',\n",
       "       'Fouls Drawn', 'Crosses', 'Interceptions', 'Tackles won',\n",
       "       'penalties won', 'penalties comitted', 'own goals ', 'ball recoveries',\n",
       "       'Unnamed: 19', 'Unnamed: 20', 'Unnamed: 21', 'Unnamed: 22'],\n",
       "      dtype='object')"
      ]
     },
     "execution_count": 35,
     "metadata": {},
     "output_type": "execute_result"
    }
   ],
   "source": [
    "df2.columns"
   ]
  },
  {
   "cell_type": "markdown",
   "metadata": {},
   "source": [
    "1. **Player**: Nombre del jugador.\n",
    "2. **Nationality**: Nacionalidad del jugador.\n",
    "3. **Position**: Posición en el campo donde juega el futbolista (por ejemplo, delantero, mediocampista, defensor, portero).\n",
    "4. **Club**: Equipo de fútbol al que pertenece el jugador.\n",
    "5. **Age**: Edad actual del jugador.\n",
    "6. **Born**: Año de nacimiento del jugador.\n",
    "7. **90s**: Número de veces que el jugador ha jugado 90 minutos completos en partidos (una medida para normalizar estadísticas).\n",
    "8. **Yellow Cards**: Tarjetas amarillas que ha recibido el jugador por faltas o comportamientos antideportivos.\n",
    "9. **Red Cards**: Tarjetas rojas recibidas, usualmente por faltas graves o por recibir dos tarjetas amarillas en el mismo partido.\n",
    "10. **2nd Yellows**: Tarjetas amarillas que resultan en una tarjeta roja (segunda amarilla en el mismo partido).\n",
    "11. **Fouls Committed**: Total de faltas cometidas por el jugador.\n",
    "12. **Fouls Drawn**: Total de faltas que ha recibido el jugador por parte de los oponentes.\n",
    "13. **Crosses**: Centros realizados, usualmente desde las bandas hacia el área en busca de compañeros para crear oportunidades de gol.\n",
    "14. **Interceptions**: Veces que el jugador ha interceptado el balón, cortando un pase o movimiento del equipo contrario.\n",
    "15. **Tackles won**: Entradas exitosas que resultan en la ganancia de la posesión del balón.\n",
    "16. **Penalties won**: Penales obtenidos a favor de su equipo gracias a una falta cometida contra el jugador en el área penal.\n",
    "17. **Penalties committed**: Penales causados por faltas cometidas por el jugador en su propia área penal.\n",
    "18. **Own goals**: Goles en propia meta, cuando el jugador introduce accidentalmente el balón en su propia portería.\n",
    "19. **Ball recoveries**: Recuperaciones del balón, indicando las veces que el jugador ha retomado la posesión del balón para su equipo, ya sea a través de interceptaciones, tackles o simplemente recogiendo balones sueltos."
   ]
  },
  {
   "cell_type": "code",
   "execution_count": 36,
   "metadata": {},
   "outputs": [],
   "source": [
    "columnas_a_dropear = ['Unnamed: 19', 'Unnamed: 20', 'Unnamed: 21', 'Unnamed: 22',]"
   ]
  },
  {
   "cell_type": "code",
   "execution_count": 37,
   "metadata": {},
   "outputs": [],
   "source": [
    "df2.drop(columns=columnas_a_dropear, axis=1, inplace=True)\n",
    "df2.fillna(0, inplace=True)"
   ]
  },
  {
   "cell_type": "code",
   "execution_count": 38,
   "metadata": {},
   "outputs": [
    {
     "data": {
      "text/plain": [
       "Index(['Player', 'Nationality', 'Position', 'Club', 'Age', 'Born', '90s',\n",
       "       'Yellow Cards', 'Red Cards', '2nd Yellows', 'Fouls Comitted',\n",
       "       'Fouls Drawn', 'Crosses', 'Interceptions', 'Tackles won',\n",
       "       'penalties won', 'penalties comitted', 'own goals ', 'ball recoveries'],\n",
       "      dtype='object')"
      ]
     },
     "execution_count": 38,
     "metadata": {},
     "output_type": "execute_result"
    }
   ],
   "source": [
    "df2.columns"
   ]
  },
  {
   "cell_type": "code",
   "execution_count": 39,
   "metadata": {},
   "outputs": [],
   "source": [
    "df2.to_csv(r'docs\\data\\limpio\\ucl_miscellanous.csv')"
   ]
  },
  {
   "cell_type": "markdown",
   "metadata": {},
   "source": [
    "## Tercer dataframe"
   ]
  },
  {
   "cell_type": "code",
   "execution_count": 40,
   "metadata": {},
   "outputs": [],
   "source": [
    "df3 = pd.read_csv(ruta('ucl_standard_stats.csv'))"
   ]
  },
  {
   "cell_type": "code",
   "execution_count": 41,
   "metadata": {},
   "outputs": [
    {
     "data": {
      "text/html": [
       "<div>\n",
       "<style scoped>\n",
       "    .dataframe tbody tr th:only-of-type {\n",
       "        vertical-align: middle;\n",
       "    }\n",
       "\n",
       "    .dataframe tbody tr th {\n",
       "        vertical-align: top;\n",
       "    }\n",
       "\n",
       "    .dataframe thead th {\n",
       "        text-align: right;\n",
       "    }\n",
       "</style>\n",
       "<table border=\"1\" class=\"dataframe\">\n",
       "  <thead>\n",
       "    <tr style=\"text-align: right;\">\n",
       "      <th></th>\n",
       "      <th>Player</th>\n",
       "      <th>Nationality</th>\n",
       "      <th>Pos</th>\n",
       "      <th>Club</th>\n",
       "      <th>Age</th>\n",
       "      <th>Born</th>\n",
       "      <th>MP</th>\n",
       "      <th>Starts</th>\n",
       "      <th>Min</th>\n",
       "      <th>90s</th>\n",
       "      <th>...</th>\n",
       "      <th>Gls</th>\n",
       "      <th>Ast</th>\n",
       "      <th>G+A.1</th>\n",
       "      <th>G-PK.1</th>\n",
       "      <th>G+A-PK</th>\n",
       "      <th>xG.1</th>\n",
       "      <th>xAG.1</th>\n",
       "      <th>xG+xAG</th>\n",
       "      <th>npxG.1</th>\n",
       "      <th>npxG+xAG.1</th>\n",
       "    </tr>\n",
       "  </thead>\n",
       "  <tbody>\n",
       "    <tr>\n",
       "      <th>0</th>\n",
       "      <td>Liel Abada</td>\n",
       "      <td>ISR</td>\n",
       "      <td>FW,MF</td>\n",
       "      <td>Celtic</td>\n",
       "      <td>20</td>\n",
       "      <td>2001</td>\n",
       "      <td>5</td>\n",
       "      <td>4</td>\n",
       "      <td>217</td>\n",
       "      <td>2.4</td>\n",
       "      <td>...</td>\n",
       "      <td>0.0</td>\n",
       "      <td>0.00</td>\n",
       "      <td>0.00</td>\n",
       "      <td>0.0</td>\n",
       "      <td>0.00</td>\n",
       "      <td>0.14</td>\n",
       "      <td>0.20</td>\n",
       "      <td>0.34</td>\n",
       "      <td>0.14</td>\n",
       "      <td>0.34</td>\n",
       "    </tr>\n",
       "    <tr>\n",
       "      <th>1</th>\n",
       "      <td>Oliver Abildgaard</td>\n",
       "      <td>DEN</td>\n",
       "      <td>MF</td>\n",
       "      <td>Celtic</td>\n",
       "      <td>26</td>\n",
       "      <td>1996</td>\n",
       "      <td>2</td>\n",
       "      <td>0</td>\n",
       "      <td>63</td>\n",
       "      <td>0.7</td>\n",
       "      <td>...</td>\n",
       "      <td>0.0</td>\n",
       "      <td>0.00</td>\n",
       "      <td>0.00</td>\n",
       "      <td>0.0</td>\n",
       "      <td>0.00</td>\n",
       "      <td>0.00</td>\n",
       "      <td>0.00</td>\n",
       "      <td>0.00</td>\n",
       "      <td>0.00</td>\n",
       "      <td>0.00</td>\n",
       "    </tr>\n",
       "    <tr>\n",
       "      <th>2</th>\n",
       "      <td>Mohammad Abu Fani</td>\n",
       "      <td>ISR</td>\n",
       "      <td>MF</td>\n",
       "      <td>Maccabi Haifa</td>\n",
       "      <td>24</td>\n",
       "      <td>1998</td>\n",
       "      <td>6</td>\n",
       "      <td>4</td>\n",
       "      <td>400</td>\n",
       "      <td>4.4</td>\n",
       "      <td>...</td>\n",
       "      <td>0.0</td>\n",
       "      <td>0.00</td>\n",
       "      <td>0.00</td>\n",
       "      <td>0.0</td>\n",
       "      <td>0.00</td>\n",
       "      <td>0.08</td>\n",
       "      <td>0.13</td>\n",
       "      <td>0.21</td>\n",
       "      <td>0.08</td>\n",
       "      <td>0.21</td>\n",
       "    </tr>\n",
       "    <tr>\n",
       "      <th>3</th>\n",
       "      <td>Francesco Acerbi</td>\n",
       "      <td>ITA</td>\n",
       "      <td>DF</td>\n",
       "      <td>Inter</td>\n",
       "      <td>34</td>\n",
       "      <td>1988</td>\n",
       "      <td>12</td>\n",
       "      <td>10</td>\n",
       "      <td>921</td>\n",
       "      <td>10.2</td>\n",
       "      <td>...</td>\n",
       "      <td>0.0</td>\n",
       "      <td>0.00</td>\n",
       "      <td>0.00</td>\n",
       "      <td>0.0</td>\n",
       "      <td>0.00</td>\n",
       "      <td>0.04</td>\n",
       "      <td>0.01</td>\n",
       "      <td>0.05</td>\n",
       "      <td>0.04</td>\n",
       "      <td>0.05</td>\n",
       "    </tr>\n",
       "    <tr>\n",
       "      <th>4</th>\n",
       "      <td>Marcos Acuña</td>\n",
       "      <td>ARG</td>\n",
       "      <td>DF,MF</td>\n",
       "      <td>Sevilla</td>\n",
       "      <td>30</td>\n",
       "      <td>1991</td>\n",
       "      <td>4</td>\n",
       "      <td>3</td>\n",
       "      <td>219</td>\n",
       "      <td>2.4</td>\n",
       "      <td>...</td>\n",
       "      <td>0.0</td>\n",
       "      <td>0.41</td>\n",
       "      <td>0.41</td>\n",
       "      <td>0.0</td>\n",
       "      <td>0.41</td>\n",
       "      <td>0.04</td>\n",
       "      <td>0.09</td>\n",
       "      <td>0.13</td>\n",
       "      <td>0.04</td>\n",
       "      <td>0.13</td>\n",
       "    </tr>\n",
       "  </tbody>\n",
       "</table>\n",
       "<p>5 rows × 35 columns</p>\n",
       "</div>"
      ],
      "text/plain": [
       "              Player Nationality    Pos           Club  Age  Born  MP  Starts  \\\n",
       "0         Liel Abada         ISR  FW,MF         Celtic   20  2001   5       4   \n",
       "1  Oliver Abildgaard         DEN     MF         Celtic   26  1996   2       0   \n",
       "2  Mohammad Abu Fani         ISR     MF  Maccabi Haifa   24  1998   6       4   \n",
       "3   Francesco Acerbi         ITA     DF          Inter   34  1988  12      10   \n",
       "4       Marcos Acuña         ARG  DF,MF        Sevilla   30  1991   4       3   \n",
       "\n",
       "   Min   90s  ...  Gls   Ast  G+A.1  G-PK.1  G+A-PK  xG.1  xAG.1  xG+xAG  \\\n",
       "0  217   2.4  ...  0.0  0.00   0.00     0.0    0.00  0.14   0.20    0.34   \n",
       "1   63   0.7  ...  0.0  0.00   0.00     0.0    0.00  0.00   0.00    0.00   \n",
       "2  400   4.4  ...  0.0  0.00   0.00     0.0    0.00  0.08   0.13    0.21   \n",
       "3  921  10.2  ...  0.0  0.00   0.00     0.0    0.00  0.04   0.01    0.05   \n",
       "4  219   2.4  ...  0.0  0.41   0.41     0.0    0.41  0.04   0.09    0.13   \n",
       "\n",
       "   npxG.1  npxG+xAG.1  \n",
       "0    0.14        0.34  \n",
       "1    0.00        0.00  \n",
       "2    0.08        0.21  \n",
       "3    0.04        0.05  \n",
       "4    0.04        0.13  \n",
       "\n",
       "[5 rows x 35 columns]"
      ]
     },
     "execution_count": 41,
     "metadata": {},
     "output_type": "execute_result"
    }
   ],
   "source": [
    "df3.head()"
   ]
  },
  {
   "cell_type": "code",
   "execution_count": 42,
   "metadata": {},
   "outputs": [
    {
     "data": {
      "text/plain": [
       "Index(['Player', 'Nationality', 'Pos', 'Club', 'Age', 'Born', 'MP', 'Starts',\n",
       "       'Min', '90s', 'Goals', 'Assists', 'G+A', 'G-PK', 'PK', 'PKatt',\n",
       "       'CrdYellow', 'CrdRed', 'xG', 'npxG', 'xAG', 'npxG+xAG', 'PrgC', 'PrgP',\n",
       "       'PrgR', 'Gls', 'Ast', 'G+A.1', 'G-PK.1', 'G+A-PK', 'xG.1', 'xAG.1',\n",
       "       'xG+xAG', 'npxG.1', 'npxG+xAG.1'],\n",
       "      dtype='object')"
      ]
     },
     "execution_count": 42,
     "metadata": {},
     "output_type": "execute_result"
    }
   ],
   "source": [
    "df3.columns"
   ]
  },
  {
   "cell_type": "markdown",
   "metadata": {},
   "source": [
    "1. **Player**: Nombre del jugador.\n",
    "2. **Nationality**: Nacionalidad del jugador.\n",
    "3. **Pos (Position)**: Posición en el campo en la que juega el futbolista.\n",
    "4. **Club**: Equipo al que pertenece el jugador.\n",
    "5. **Age**: Edad actual del jugador.\n",
    "6. **Born**: Año de nacimiento del jugador.\n",
    "7. **MP (Matches Played)**: Partidos jugados.\n",
    "8. **Starts**: Partidos en los que el jugador ha sido titular.\n",
    "9. **Min (Minutes)**: Minutos jugados.\n",
    "10. **90s**: Partidos completos jugados (en términos de 90 minutos cada uno).\n",
    "11. **Goals**: Goles marcados.\n",
    "12. **Assists**: Asistencias a gol.\n",
    "13. **G+A (Goals + Assists)**: Suma de goles y asistencias.\n",
    "14. **G-PK (Goals - Penalty Kicks)**: Goles marcados excluyendo los penales.\n",
    "15. **PK (Penalty Kicks)**: Penales marcados.\n",
    "16. **PKatt (Penalty Kicks Attempted)**: Penales intentados.\n",
    "17. **CrdYellow (Yellow Cards)**: Tarjetas amarillas recibidas.\n",
    "18. **CrdRed (Red Cards)**: Tarjetas rojas recibidas.\n",
    "19. **xG (Expected Goals)**: Goles esperados, que miden la calidad de las oportunidades de gol.\n",
    "20. **npxG (Non-Penalty Expected Goals)**: Goles esperados excluyendo los penales.\n",
    "21. **xAG (Expected Assists Goals)**: Asistencias esperadas, que miden la calidad de las oportunidades de asistencia.\n",
    "22. **npxG+xAG**: Suma de goles esperados sin penales y asistencias esperadas.\n",
    "23. **PrgC (Progressive Carries)**: Avances con el balón controlado hacia el área rival.\n",
    "24. **PrgP (Progressive Passes)**: Pases progresivos que avanzan significativamente hacia el área rival.\n",
    "25. **PrgR (Progressive Runs)**: Carreras progresivas hacia el área adversaria.\n",
    "26. **Gls (Goals Listed Again)**: Lista de goles, probablemente un duplicado o en otro contexto.\n",
    "27. **Ast (Assists Listed Again)**: Lista de asistencias, probablemente un duplicado o en otro contexto.\n",
    "28. **G+A.1 (Goals + Assists Listed Again)**: Suma de goles y asistencias, probablemente un duplicado o en otro contexto.\n",
    "29. **G-PK.1 (Goals - Penalty Kicks Listed Again)**: Goles marcados excluyendo penales, probablemente un duplicado o en otro contexto.\n",
    "30. **G+A-PK (Goals + Assists - Penalty Kicks)**: Suma de goles y asistencias excluyendo los goles de penal.\n",
    "31. **xG.1 (Expected Goals Listed Again)**: Goles esperados, probablemente un duplicado o en otro contexto.\n",
    "32. **xAG.1 (Expected Assists Goals Listed Again)**: Asistencias esperadas, probablemente un duplicado o en otro contexto.\n",
    "33. **xG+xAG**: Suma de goles esperados y asistencias esperadas.\n",
    "34. **npxG.1 (Non-Penalty Expected Goals Listed Again)**: Goles esperados sin penales, probablemente un duplicado o en otro contexto.\n",
    "35. **npxG+xAG.1**: Suma de goles esperados sin penales y asistencias esperadas, probablemente un duplicado o en otro contexto."
   ]
  },
  {
   "cell_type": "code",
   "execution_count": 43,
   "metadata": {},
   "outputs": [],
   "source": [
    "columnas_a_dropear = ['G+A.1','G-PK.1','xG.1','xAG.1','npxG.1','npxG+xAG.1']"
   ]
  },
  {
   "cell_type": "code",
   "execution_count": 44,
   "metadata": {},
   "outputs": [],
   "source": [
    "df3.drop(columns=columnas_a_dropear, axis=1, inplace=True)\n",
    "df3.fillna(0, inplace=True)"
   ]
  },
  {
   "cell_type": "code",
   "execution_count": 45,
   "metadata": {},
   "outputs": [
    {
     "data": {
      "text/plain": [
       "Index(['Player', 'Nationality', 'Pos', 'Club', 'Age', 'Born', 'MP', 'Starts',\n",
       "       'Min', '90s', 'Goals', 'Assists', 'G+A', 'G-PK', 'PK', 'PKatt',\n",
       "       'CrdYellow', 'CrdRed', 'xG', 'npxG', 'xAG', 'npxG+xAG', 'PrgC', 'PrgP',\n",
       "       'PrgR', 'Gls', 'Ast', 'G+A-PK', 'xG+xAG'],\n",
       "      dtype='object')"
      ]
     },
     "execution_count": 45,
     "metadata": {},
     "output_type": "execute_result"
    }
   ],
   "source": [
    "df3.columns"
   ]
  },
  {
   "cell_type": "code",
   "execution_count": 46,
   "metadata": {},
   "outputs": [],
   "source": [
    "df3.to_csv(r'docs\\data\\limpio\\ucl_standard_stats.csv')"
   ]
  }
 ],
 "metadata": {
  "kernelspec": {
   "display_name": "entorno",
   "language": "python",
   "name": "python3"
  },
  "language_info": {
   "codemirror_mode": {
    "name": "ipython",
    "version": 3
   },
   "file_extension": ".py",
   "mimetype": "text/x-python",
   "name": "python",
   "nbconvert_exporter": "python",
   "pygments_lexer": "ipython3",
   "version": "3.11.5"
  }
 },
 "nbformat": 4,
 "nbformat_minor": 2
}
