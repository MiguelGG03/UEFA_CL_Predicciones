{
 "cells": [
  {
   "cell_type": "markdown",
   "metadata": {},
   "source": [
    "# Usaremos este notebook para quitar las columnas que no son relevantes (o si lo son pero no las voy a usar)"
   ]
  },
  {
   "cell_type": "code",
   "execution_count": 13,
   "metadata": {},
   "outputs": [],
   "source": [
    "import pandas as pd\n",
    "from csv_2_json import ruta"
   ]
  },
  {
   "cell_type": "code",
   "execution_count": 14,
   "metadata": {},
   "outputs": [],
   "source": [
    "df1 = pd.read_csv(ruta('ucl_shooting.csv'))"
   ]
  },
  {
   "cell_type": "code",
   "execution_count": 15,
   "metadata": {},
   "outputs": [
    {
     "data": {
      "text/html": [
       "<div>\n",
       "<style scoped>\n",
       "    .dataframe tbody tr th:only-of-type {\n",
       "        vertical-align: middle;\n",
       "    }\n",
       "\n",
       "    .dataframe tbody tr th {\n",
       "        vertical-align: top;\n",
       "    }\n",
       "\n",
       "    .dataframe thead th {\n",
       "        text-align: right;\n",
       "    }\n",
       "</style>\n",
       "<table border=\"1\" class=\"dataframe\">\n",
       "  <thead>\n",
       "    <tr style=\"text-align: right;\">\n",
       "      <th></th>\n",
       "      <th>Player</th>\n",
       "      <th>Nationality</th>\n",
       "      <th>Position</th>\n",
       "      <th>Club</th>\n",
       "      <th>Age</th>\n",
       "      <th>Born</th>\n",
       "      <th>90s</th>\n",
       "      <th>Goals</th>\n",
       "      <th>Shot Total</th>\n",
       "      <th>Shots on target</th>\n",
       "      <th>...</th>\n",
       "      <th>Avg shot distance</th>\n",
       "      <th>Free kicks</th>\n",
       "      <th>Penalty kicks</th>\n",
       "      <th>Penalty kicks attempted</th>\n",
       "      <th>Expected goal</th>\n",
       "      <th>Non-penalty expected goals</th>\n",
       "      <th>non-penalty expected goals/shot</th>\n",
       "      <th>Goals minus expected goals</th>\n",
       "      <th>Non-penalty goals minus non-penalty expected goals</th>\n",
       "      <th>Unnamed: 24</th>\n",
       "    </tr>\n",
       "  </thead>\n",
       "  <tbody>\n",
       "    <tr>\n",
       "      <th>317</th>\n",
       "      <td>Vinicius Júnior</td>\n",
       "      <td>BRA</td>\n",
       "      <td>FW</td>\n",
       "      <td>Real Madrid</td>\n",
       "      <td>22</td>\n",
       "      <td>2000</td>\n",
       "      <td>10.8</td>\n",
       "      <td>7</td>\n",
       "      <td>38</td>\n",
       "      <td>19</td>\n",
       "      <td>...</td>\n",
       "      <td>13.6</td>\n",
       "      <td>0</td>\n",
       "      <td>0</td>\n",
       "      <td>0</td>\n",
       "      <td>6.5</td>\n",
       "      <td>6.5</td>\n",
       "      <td>0.17</td>\n",
       "      <td>0.5</td>\n",
       "      <td>0.5</td>\n",
       "      <td>NaN</td>\n",
       "    </tr>\n",
       "  </tbody>\n",
       "</table>\n",
       "<p>1 rows × 25 columns</p>\n",
       "</div>"
      ],
      "text/plain": [
       "              Player Nationality Position         Club  Age  Born   90s  \\\n",
       "317  Vinicius Júnior         BRA       FW  Real Madrid   22  2000  10.8   \n",
       "\n",
       "     Goals  Shot Total  Shots on target  ...  Avg shot distance  Free kicks  \\\n",
       "317      7          38               19  ...               13.6           0   \n",
       "\n",
       "     Penalty kicks   Penalty kicks attempted  Expected goal  \\\n",
       "317               0                        0            6.5   \n",
       "\n",
       "     Non-penalty expected goals  non-penalty expected goals/shot  \\\n",
       "317                         6.5                             0.17   \n",
       "\n",
       "     Goals minus expected goals  \\\n",
       "317                         0.5   \n",
       "\n",
       "     Non-penalty goals minus non-penalty expected goals  Unnamed: 24  \n",
       "317                                                0.5           NaN  \n",
       "\n",
       "[1 rows x 25 columns]"
      ]
     },
     "execution_count": 15,
     "metadata": {},
     "output_type": "execute_result"
    }
   ],
   "source": [
    "df1[df1['Player'] == 'Vinicius Júnior'].head()"
   ]
  },
  {
   "cell_type": "code",
   "execution_count": 16,
   "metadata": {},
   "outputs": [
    {
     "data": {
      "text/plain": [
       "Index(['Player', 'Nationality', 'Position', 'Club', 'Age', 'Born', '90s',\n",
       "       'Goals', 'Shot Total', 'Shots on target', 'Shots on target %',\n",
       "       'Shots Total/90', 'Shots on target/90', 'Goals/shot',\n",
       "       'Goals/shot on target', 'Avg shot distance', 'Free kicks',\n",
       "       'Penalty kicks ', 'Penalty kicks attempted', 'Expected goal',\n",
       "       'Non-penalty expected goals', 'non-penalty expected goals/shot',\n",
       "       'Goals minus expected goals',\n",
       "       'Non-penalty goals minus non-penalty expected goals', 'Unnamed: 24'],\n",
       "      dtype='object')"
      ]
     },
     "execution_count": 16,
     "metadata": {},
     "output_type": "execute_result"
    }
   ],
   "source": [
    "df1.columns"
   ]
  },
  {
   "cell_type": "markdown",
   "metadata": {},
   "source": [
    "1. **Player**: Nombre del jugador.\n",
    "2. **Nationality**: Nacionalidad del jugador.\n",
    "3. **Position**: Posición en la que juega en el campo, en este caso, delantero.\n",
    "4. **Club**: Club de fútbol al que pertenece el jugador.\n",
    "5. **Age**: Edad del jugador.\n",
    "6. **Born**: Año de nacimiento del jugador.\n",
    "7. **90s**: Número de periodos completos de 90 minutos jugados.\n",
    "8. **Goals**: Goles marcados.\n",
    "9. **Shot Total**: Total de disparos realizados.\n",
    "10. **Shots on target**: Disparos que han ido directamente a la portería.\n",
    "11. **Shots on target %**: Porcentaje de disparos que han sido a puerta.\n",
    "12. **Shots Total/90**: Promedio de disparos realizados por cada 90 minutos jugados.\n",
    "13. **Shots on target/90**: Promedio de disparos a puerta por cada 90 minutos jugados.\n",
    "14. **Goals/shot**: Proporción de goles por disparo realizado.\n",
    "15. **Goals/shot on target**: Proporción de goles por cada disparo a puerta.\n",
    "16. **Avg shot distance**: Distancia media desde la que se realizan los disparos.\n",
    "17. **Free kicks**: Tiros libres realizados.\n",
    "18. **Penalty kicks**: Penales marcados.\n",
    "19. **Penalty kicks attempted**: Penales intentados.\n",
    "20. **Expected goal (xG)**: Goles esperados, que mide la calidad de las oportunidades de gol creadas.\n",
    "21. **Non-penalty expected goals**: Goles esperados excluyendo penales.\n",
    "22. **Non-penalty expected goals/shot**: Proporción de goles esperados por disparo, excluyendo penales.\n",
    "23. **Goals minus expected goals**: Diferencia entre los goles marcados y los goles esperados.\n",
    "24. **Non-penalty goals minus non-penalty expected goals**: Diferencia entre los goles marcados (excluyendo penales) y los goles esperados (excluyendo penales).\n",
    "25. **Unnamed: 24**: Este campo parece ser un error o un campo no definido en la base de datos."
   ]
  },
  {
   "cell_type": "code",
   "execution_count": 17,
   "metadata": {},
   "outputs": [],
   "source": [
    "columnas_a_dropear = ['Unnamed: 24','Non-penalty goals minus non-penalty expected goals','non-penalty expected goals/shot','Non-penalty expected goals',]\n",
    "df1.drop(columns=columnas_a_dropear, axis=1, inplace=True)\n",
    "df1.fillna(0, inplace=True)"
   ]
  },
  {
   "cell_type": "code",
   "execution_count": 18,
   "metadata": {},
   "outputs": [
    {
     "data": {
      "text/plain": [
       "Index(['Player', 'Nationality', 'Position', 'Club', 'Age', 'Born', '90s',\n",
       "       'Goals', 'Shot Total', 'Shots on target', 'Shots on target %',\n",
       "       'Shots Total/90', 'Shots on target/90', 'Goals/shot',\n",
       "       'Goals/shot on target', 'Avg shot distance', 'Free kicks',\n",
       "       'Penalty kicks ', 'Penalty kicks attempted', 'Expected goal',\n",
       "       'Goals minus expected goals'],\n",
       "      dtype='object')"
      ]
     },
     "execution_count": 18,
     "metadata": {},
     "output_type": "execute_result"
    }
   ],
   "source": [
    "df1.columns"
   ]
  },
  {
   "cell_type": "code",
   "execution_count": 19,
   "metadata": {},
   "outputs": [],
   "source": [
    "df1.to_csv(r'docs\\data\\limpio\\ucl_shooting.csv')"
   ]
  }
 ],
 "metadata": {
  "kernelspec": {
   "display_name": "entorno",
   "language": "python",
   "name": "python3"
  },
  "language_info": {
   "codemirror_mode": {
    "name": "ipython",
    "version": 3
   },
   "file_extension": ".py",
   "mimetype": "text/x-python",
   "name": "python",
   "nbconvert_exporter": "python",
   "pygments_lexer": "ipython3",
   "version": "3.11.5"
  }
 },
 "nbformat": 4,
 "nbformat_minor": 2
}
