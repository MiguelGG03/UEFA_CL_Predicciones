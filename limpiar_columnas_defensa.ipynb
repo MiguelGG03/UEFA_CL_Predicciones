{
 "cells": [
  {
   "cell_type": "markdown",
   "metadata": {},
   "source": [
    "# Usaremos este notebook para quitar las columnas que no son relevantes (o si lo son pero no las voy a usar)"
   ]
  },
  {
   "cell_type": "code",
   "execution_count": 1,
   "metadata": {},
   "outputs": [],
   "source": [
    "import pandas as pd\n",
    "from csv_2_json import ruta"
   ]
  },
  {
   "cell_type": "code",
   "execution_count": 2,
   "metadata": {},
   "outputs": [],
   "source": [
    "df1 = pd.read_csv(ruta('ucl_player_playing_time.csv'))"
   ]
  },
  {
   "cell_type": "code",
   "execution_count": 4,
   "metadata": {},
   "outputs": [
    {
     "data": {
      "text/html": [
       "<div>\n",
       "<style scoped>\n",
       "    .dataframe tbody tr th:only-of-type {\n",
       "        vertical-align: middle;\n",
       "    }\n",
       "\n",
       "    .dataframe tbody tr th {\n",
       "        vertical-align: top;\n",
       "    }\n",
       "\n",
       "    .dataframe thead th {\n",
       "        text-align: right;\n",
       "    }\n",
       "</style>\n",
       "<table border=\"1\" class=\"dataframe\">\n",
       "  <thead>\n",
       "    <tr style=\"text-align: right;\">\n",
       "      <th></th>\n",
       "      <th>Player</th>\n",
       "      <th>Nationality</th>\n",
       "      <th>Position</th>\n",
       "      <th>Club</th>\n",
       "      <th>Age</th>\n",
       "      <th>Born</th>\n",
       "      <th>MP</th>\n",
       "      <th>Min</th>\n",
       "      <th>Mn/MP</th>\n",
       "      <th>Min%</th>\n",
       "      <th>...</th>\n",
       "      <th>onG</th>\n",
       "      <th>onGA</th>\n",
       "      <th>#ERROR!</th>\n",
       "      <th>#ERROR!.1</th>\n",
       "      <th>On-Off</th>\n",
       "      <th>onxG</th>\n",
       "      <th>onxGA</th>\n",
       "      <th>xG+/-</th>\n",
       "      <th>xG+/-90</th>\n",
       "      <th>On-Off.1</th>\n",
       "    </tr>\n",
       "  </thead>\n",
       "  <tbody>\n",
       "    <tr>\n",
       "      <th>567</th>\n",
       "      <td>Nacho</td>\n",
       "      <td>ESP</td>\n",
       "      <td>DF</td>\n",
       "      <td>Real Madrid</td>\n",
       "      <td>32</td>\n",
       "      <td>1990</td>\n",
       "      <td>8</td>\n",
       "      <td>440</td>\n",
       "      <td>55.0</td>\n",
       "      <td>40.7</td>\n",
       "      <td>...</td>\n",
       "      <td>10.0</td>\n",
       "      <td>4.0</td>\n",
       "      <td>6.0</td>\n",
       "      <td>1.23</td>\n",
       "      <td>0.24</td>\n",
       "      <td>7.1</td>\n",
       "      <td>3.3</td>\n",
       "      <td>3.9</td>\n",
       "      <td>0.79</td>\n",
       "      <td>0.44</td>\n",
       "    </tr>\n",
       "  </tbody>\n",
       "</table>\n",
       "<p>1 rows × 28 columns</p>\n",
       "</div>"
      ],
      "text/plain": [
       "    Player Nationality Position         Club  Age  Born  MP  Min  Mn/MP  Min%  \\\n",
       "567  Nacho         ESP       DF  Real Madrid   32  1990   8  440   55.0  40.7   \n",
       "\n",
       "     ...   onG  onGA  #ERROR!  #ERROR!.1  On-Off  onxG  onxGA  xG+/-  xG+/-90  \\\n",
       "567  ...  10.0   4.0      6.0       1.23    0.24   7.1    3.3    3.9     0.79   \n",
       "\n",
       "     On-Off.1  \n",
       "567      0.44  \n",
       "\n",
       "[1 rows x 28 columns]"
      ]
     },
     "execution_count": 4,
     "metadata": {},
     "output_type": "execute_result"
    }
   ],
   "source": [
    "df1[df1['Player'] == 'Nacho'].head()"
   ]
  },
  {
   "cell_type": "code",
   "execution_count": 5,
   "metadata": {},
   "outputs": [
    {
     "data": {
      "text/plain": [
       "Index(['Player', 'Nationality', 'Position', 'Club', 'Age', 'Born', 'MP', 'Min',\n",
       "       'Mn/MP', 'Min%', '90s', 'Starts', 'Mn/Start', 'Compl', 'Subs', 'Mn/Sub',\n",
       "       'unSub', 'PPM', 'onG', 'onGA', '#ERROR!', '#ERROR!.1', 'On-Off', 'onxG',\n",
       "       'onxGA', 'xG+/-', 'xG+/-90', 'On-Off.1'],\n",
       "      dtype='object')"
      ]
     },
     "execution_count": 5,
     "metadata": {},
     "output_type": "execute_result"
    }
   ],
   "source": [
    "df1.columns"
   ]
  },
  {
   "cell_type": "markdown",
   "metadata": {},
   "source": [
    "1. **Player**: Nombre del jugador.\n",
    "2. **Nationality**: Nacionalidad del jugador.\n",
    "3. **Position**: Posición en la que juega en el campo.\n",
    "4. **Club**: Club de fútbol al que pertenece el jugador.\n",
    "5. **Age**: Edad del jugador.\n",
    "6. **Born**: Año de nacimiento del jugador.\n",
    "7. **MP (Matches Played)**: Partidos jugados.\n",
    "8. **Min (Minutes)**: Minutos jugados.\n",
    "9. **Mn/MP (Minutes per Match Played)**: Promedio de minutos jugados por partido.\n",
    "10. **Min% (Percentage of Minutes)**: Porcentaje de minutos jugados respecto al total posible.\n",
    "11. **90s**: Número de partidos completos jugados (normalmente un partido tiene 90 minutos).\n",
    "12. **Starts**: Partidos en los que el jugador comenzó como titular.\n",
    "13. **Mn/Start (Minutes per Start)**: Promedio de minutos jugados en los partidos que comenzó como titular.\n",
    "14. **Compl (Complete Games)**: Partidos completados (sin ser sustituido).\n",
    "15. **Subs**: Veces que el jugador ha entrado como sustituto.\n",
    "16. **Mn/Sub (Minutes per Substitute Appearance)**: Promedio de minutos jugados por aparición como sustituto.\n",
    "17. **unSub (Unused Substitute)**: Veces que el jugador estuvo en el banquillo y no fue utilizado.\n",
    "18. **PPM (Points per Match)**: Puntos ganados por partido jugado.\n",
    "19. **onG (Goals On Field)**: Goles anotados mientras el jugador estaba en el campo.\n",
    "20. **onGA (Goals Against On Field)**: Goles recibidos mientras el jugador estaba en el campo.\n",
    "21. **On-Off**: Diferencia de goles (favor-contra) con el jugador en el campo comparado con fuera de él.\n",
    "22. **onxG (on Expected Goals)**: Goles esperados anotados mientras el jugador estaba en el campo.\n",
    "23. **onxGA (on Expected Goals Against)**: Goles esperados en contra mientras el jugador estaba en el campo.\n",
    "24. **xG+/- (Expected Goals Difference)**: Diferencia entre los goles esperados a favor y en contra.\n",
    "25. **xG+/-90 (Expected Goals Difference per 90 Minutes)**: Diferencia de goles esperados por cada 90 minutos jugados.\n",
    "26. **On-Off.1**: Este campo parece ser una repetición del anterior On-Off y podría referirse a otro tipo de métrica diferencial cuando el jugador está o no en el campo, tal como impacto en el xG."
   ]
  },
  {
   "cell_type": "code",
   "execution_count": 6,
   "metadata": {},
   "outputs": [],
   "source": [
    "columnas_a_dropear = ['MP','Min','Min%','90s','Starts','Subs','On-Off.1','#ERROR!','#ERROR!.1']\n",
    "df1.drop(columns=columnas_a_dropear, axis=1, inplace=True)\n",
    "df1.fillna(0, inplace=True)"
   ]
  },
  {
   "cell_type": "code",
   "execution_count": 7,
   "metadata": {},
   "outputs": [
    {
     "data": {
      "text/plain": [
       "Index(['Player', 'Nationality', 'Position', 'Club', 'Age', 'Born', 'Mn/MP',\n",
       "       'Mn/Start', 'Compl', 'Mn/Sub', 'unSub', 'PPM', 'onG', 'onGA', 'On-Off',\n",
       "       'onxG', 'onxGA', 'xG+/-', 'xG+/-90'],\n",
       "      dtype='object')"
      ]
     },
     "execution_count": 7,
     "metadata": {},
     "output_type": "execute_result"
    }
   ],
   "source": [
    "df1.columns"
   ]
  },
  {
   "cell_type": "code",
   "execution_count": 9,
   "metadata": {},
   "outputs": [],
   "source": [
    "df1.to_csv(r'docs\\data\\limpio\\ucl_player_playing_time.csv')"
   ]
  },
  {
   "cell_type": "markdown",
   "metadata": {},
   "source": [
    "## Segundo dataframe"
   ]
  },
  {
   "cell_type": "code",
   "execution_count": 8,
   "metadata": {},
   "outputs": [],
   "source": [
    "df2 = pd.read_csv(ruta('ucl_goalkeeper.csv'))"
   ]
  },
  {
   "cell_type": "code",
   "execution_count": 9,
   "metadata": {},
   "outputs": [
    {
     "data": {
      "text/html": [
       "<div>\n",
       "<style scoped>\n",
       "    .dataframe tbody tr th:only-of-type {\n",
       "        vertical-align: middle;\n",
       "    }\n",
       "\n",
       "    .dataframe tbody tr th {\n",
       "        vertical-align: top;\n",
       "    }\n",
       "\n",
       "    .dataframe thead th {\n",
       "        text-align: right;\n",
       "    }\n",
       "</style>\n",
       "<table border=\"1\" class=\"dataframe\">\n",
       "  <thead>\n",
       "    <tr style=\"text-align: right;\">\n",
       "      <th></th>\n",
       "      <th>Player</th>\n",
       "      <th>Nationality</th>\n",
       "      <th>Position</th>\n",
       "      <th>Club</th>\n",
       "      <th>Age</th>\n",
       "      <th>Born</th>\n",
       "      <th>MP</th>\n",
       "      <th>Starts</th>\n",
       "      <th>Min</th>\n",
       "      <th>90s</th>\n",
       "      <th>...</th>\n",
       "      <th>W</th>\n",
       "      <th>D</th>\n",
       "      <th>L</th>\n",
       "      <th>CS</th>\n",
       "      <th>CS%</th>\n",
       "      <th>PKatt</th>\n",
       "      <th>PKA</th>\n",
       "      <th>PKsv</th>\n",
       "      <th>PKm</th>\n",
       "      <th>Save%.1</th>\n",
       "    </tr>\n",
       "  </thead>\n",
       "  <tbody>\n",
       "    <tr>\n",
       "      <th>0</th>\n",
       "      <td>Antonio Adán</td>\n",
       "      <td>ESP</td>\n",
       "      <td>GK</td>\n",
       "      <td>Sporting CP</td>\n",
       "      <td>35</td>\n",
       "      <td>1987</td>\n",
       "      <td>5</td>\n",
       "      <td>5</td>\n",
       "      <td>382</td>\n",
       "      <td>4.2</td>\n",
       "      <td>...</td>\n",
       "      <td>2</td>\n",
       "      <td>1</td>\n",
       "      <td>2</td>\n",
       "      <td>2</td>\n",
       "      <td>40.0</td>\n",
       "      <td>1</td>\n",
       "      <td>1</td>\n",
       "      <td>0</td>\n",
       "      <td>0</td>\n",
       "      <td>0.0</td>\n",
       "    </tr>\n",
       "    <tr>\n",
       "      <th>1</th>\n",
       "      <td>Alisson</td>\n",
       "      <td>BRA</td>\n",
       "      <td>GK</td>\n",
       "      <td>Liverpool</td>\n",
       "      <td>29</td>\n",
       "      <td>1992</td>\n",
       "      <td>8</td>\n",
       "      <td>8</td>\n",
       "      <td>720</td>\n",
       "      <td>8.0</td>\n",
       "      <td>...</td>\n",
       "      <td>5</td>\n",
       "      <td>0</td>\n",
       "      <td>3</td>\n",
       "      <td>3</td>\n",
       "      <td>37.5</td>\n",
       "      <td>2</td>\n",
       "      <td>1</td>\n",
       "      <td>1</td>\n",
       "      <td>0</td>\n",
       "      <td>50.0</td>\n",
       "    </tr>\n",
       "    <tr>\n",
       "      <th>2</th>\n",
       "      <td>Kepa Arrizabalaga</td>\n",
       "      <td>ESP</td>\n",
       "      <td>GK</td>\n",
       "      <td>Chelsea</td>\n",
       "      <td>27</td>\n",
       "      <td>1994</td>\n",
       "      <td>9</td>\n",
       "      <td>9</td>\n",
       "      <td>810</td>\n",
       "      <td>9.0</td>\n",
       "      <td>...</td>\n",
       "      <td>4</td>\n",
       "      <td>1</td>\n",
       "      <td>4</td>\n",
       "      <td>3</td>\n",
       "      <td>33.3</td>\n",
       "      <td>0</td>\n",
       "      <td>0</td>\n",
       "      <td>0</td>\n",
       "      <td>0</td>\n",
       "      <td>NaN</td>\n",
       "    </tr>\n",
       "    <tr>\n",
       "      <th>3</th>\n",
       "      <td>Janis Blaswich</td>\n",
       "      <td>GER</td>\n",
       "      <td>GK</td>\n",
       "      <td>RB Leipzig</td>\n",
       "      <td>31</td>\n",
       "      <td>1991</td>\n",
       "      <td>6</td>\n",
       "      <td>5</td>\n",
       "      <td>528</td>\n",
       "      <td>5.9</td>\n",
       "      <td>...</td>\n",
       "      <td>3</td>\n",
       "      <td>1</td>\n",
       "      <td>1</td>\n",
       "      <td>2</td>\n",
       "      <td>40.0</td>\n",
       "      <td>2</td>\n",
       "      <td>2</td>\n",
       "      <td>0</td>\n",
       "      <td>0</td>\n",
       "      <td>0.0</td>\n",
       "    </tr>\n",
       "    <tr>\n",
       "      <th>4</th>\n",
       "      <td>Yassine Bounou</td>\n",
       "      <td>MAR</td>\n",
       "      <td>GK</td>\n",
       "      <td>Sevilla</td>\n",
       "      <td>31</td>\n",
       "      <td>1991</td>\n",
       "      <td>4</td>\n",
       "      <td>4</td>\n",
       "      <td>360</td>\n",
       "      <td>4.0</td>\n",
       "      <td>...</td>\n",
       "      <td>0</td>\n",
       "      <td>1</td>\n",
       "      <td>3</td>\n",
       "      <td>0</td>\n",
       "      <td>0.0</td>\n",
       "      <td>0</td>\n",
       "      <td>0</td>\n",
       "      <td>0</td>\n",
       "      <td>0</td>\n",
       "      <td>NaN</td>\n",
       "    </tr>\n",
       "  </tbody>\n",
       "</table>\n",
       "<p>5 rows × 25 columns</p>\n",
       "</div>"
      ],
      "text/plain": [
       "              Player Nationality Position         Club  Age  Born  MP  Starts  \\\n",
       "0       Antonio Adán         ESP       GK  Sporting CP   35  1987   5       5   \n",
       "1            Alisson         BRA       GK    Liverpool   29  1992   8       8   \n",
       "2  Kepa Arrizabalaga         ESP       GK      Chelsea   27  1994   9       9   \n",
       "3     Janis Blaswich         GER       GK   RB Leipzig   31  1991   6       5   \n",
       "4     Yassine Bounou         MAR       GK      Sevilla   31  1991   4       4   \n",
       "\n",
       "   Min  90s  ...  W  D  L  CS   CS%  PKatt  PKA  PKsv  PKm  Save%.1  \n",
       "0  382  4.2  ...  2  1  2   2  40.0      1    1     0    0      0.0  \n",
       "1  720  8.0  ...  5  0  3   3  37.5      2    1     1    0     50.0  \n",
       "2  810  9.0  ...  4  1  4   3  33.3      0    0     0    0      NaN  \n",
       "3  528  5.9  ...  3  1  1   2  40.0      2    2     0    0      0.0  \n",
       "4  360  4.0  ...  0  1  3   0   0.0      0    0     0    0      NaN  \n",
       "\n",
       "[5 rows x 25 columns]"
      ]
     },
     "execution_count": 9,
     "metadata": {},
     "output_type": "execute_result"
    }
   ],
   "source": [
    "df2.head()"
   ]
  },
  {
   "cell_type": "code",
   "execution_count": 10,
   "metadata": {},
   "outputs": [
    {
     "data": {
      "text/plain": [
       "Index(['Player', 'Nationality', 'Position', 'Club', 'Age', 'Born', 'MP',\n",
       "       'Starts', 'Min', '90s', 'GA', 'GA90', 'SoTA', 'Saves', 'Save%', 'W',\n",
       "       'D', 'L', 'CS', 'CS%', 'PKatt', 'PKA', 'PKsv', 'PKm', 'Save%.1'],\n",
       "      dtype='object')"
      ]
     },
     "execution_count": 10,
     "metadata": {},
     "output_type": "execute_result"
    }
   ],
   "source": [
    "df2.columns"
   ]
  },
  {
   "cell_type": "markdown",
   "metadata": {},
   "source": [
    "1. **'MP'**: Matches Played (Partidos jugados). Total de partidos en los que el portero ha participado.\n",
    "\n",
    "2. **'Starts'**: Número de partidos en los que el portero ha sido titular.\n",
    "\n",
    "3. **'Min'**: Minutes (Minutos jugados). Total de minutos que el portero ha estado en el campo.\n",
    "\n",
    "4. **'90s'**: Número de partidos jugados, expresado en múltiplos de 90 minutos (equivalente a un partido completo).\n",
    "\n",
    "5. **'GA'**: Goals Allowed (Goles encajados). Total de goles que el portero ha recibido.\n",
    "\n",
    "6. **'GA90'**: Goles encajados por cada 90 minutos. Esto muestra el promedio de goles recibidos en un partido completo.\n",
    "\n",
    "7. **'SoTA'**: Shots on Target Against (Tiros a puerta enfrentados). Cantidad de tiros dirigidos a la portería que el portero ha enfrentado.\n",
    "\n",
    "8. **'Saves'**: Paradas realizadas.\n",
    "\n",
    "9. **'Save%'**: Porcentaje de paradas, calculado como el número de tiros a puerta parados dividido por el total de tiros a puerta enfrentados.\n",
    "\n",
    "10. **'W'**: Wins (Victorias). Número de partidos ganados con el portero en juego.\n",
    "\n",
    "11. **'D'**: Draws (Empates). Número de partidos empatados con el portero en juego.\n",
    "\n",
    "12. **'L'**: Losses (Derrotas). Número de partidos perdidos con el portero en juego.\n",
    "\n",
    "13. **'CS'**: Clean Sheets (Porterías a cero). Número de partidos en los que el portero no ha encajado ningún gol.\n",
    "\n",
    "14. **'CS%'**: Porcentaje de Porterías a cero, calculado como el número de partidos sin encajar goles dividido por el total de partidos jugados.\n",
    "\n",
    "15. **'PKatt'**: Penalty Kicks Attempted (Penales enfrentados). Número de penales que el portero ha enfrentado.\n",
    "\n",
    "16. **'PKA'**: Penalty Kicks Allowed (Penales encajados). Número de penales que han resultado en gol.\n",
    "\n",
    "17. **'PKsv'**: Penalty Kicks Saved (Penales parados). Número de penales que el portero ha logrado parar.\n",
    "\n",
    "18. **'PKm'**: Penalty Kicks Missed (Penales fallados). Número de penales que los adversarios han fallado (disparados fuera o al poste).\n",
    "\n",
    "19. **'Save%.1'**: Podría ser una repetición del porcentaje de paradas en una situación específica (como paradas en juego abierto o específicamente en penales), dependiendo del contexto del dato."
   ]
  },
  {
   "cell_type": "code",
   "execution_count": 11,
   "metadata": {},
   "outputs": [],
   "source": [
    "columnas_a_dropear = ['Save%.1', 'Saves', 'CS', 'GA']"
   ]
  },
  {
   "cell_type": "code",
   "execution_count": 12,
   "metadata": {},
   "outputs": [],
   "source": [
    "df2.drop(columns=columnas_a_dropear, axis=1, inplace=True)\n",
    "df2.fillna(0, inplace=True)"
   ]
  },
  {
   "cell_type": "code",
   "execution_count": 13,
   "metadata": {},
   "outputs": [
    {
     "data": {
      "text/plain": [
       "Index(['Player', 'Nationality', 'Position', 'Club', 'Age', 'Born', 'MP',\n",
       "       'Starts', 'Min', '90s', 'GA90', 'SoTA', 'Save%', 'W', 'D', 'L', 'CS%',\n",
       "       'PKatt', 'PKA', 'PKsv', 'PKm'],\n",
       "      dtype='object')"
      ]
     },
     "execution_count": 13,
     "metadata": {},
     "output_type": "execute_result"
    }
   ],
   "source": [
    "df2.columns"
   ]
  },
  {
   "cell_type": "code",
   "execution_count": 14,
   "metadata": {},
   "outputs": [],
   "source": [
    "df2.to_csv(r'docs\\data\\clear\\ucl_goalkeeper.csv')"
   ]
  },
  {
   "cell_type": "markdown",
   "metadata": {},
   "source": [
    "# Ahora tocan los defensas"
   ]
  },
  {
   "cell_type": "code",
   "execution_count": null,
   "metadata": {},
   "outputs": [],
   "source": []
  }
 ],
 "metadata": {
  "kernelspec": {
   "display_name": "entorno",
   "language": "python",
   "name": "python3"
  },
  "language_info": {
   "codemirror_mode": {
    "name": "ipython",
    "version": 3
   },
   "file_extension": ".py",
   "mimetype": "text/x-python",
   "name": "python",
   "nbconvert_exporter": "python",
   "pygments_lexer": "ipython3",
   "version": "3.11.5"
  }
 },
 "nbformat": 4,
 "nbformat_minor": 2
}
