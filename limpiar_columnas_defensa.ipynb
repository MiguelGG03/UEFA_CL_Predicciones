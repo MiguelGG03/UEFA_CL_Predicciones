{
 "cells": [
  {
   "cell_type": "markdown",
   "metadata": {},
   "source": [
    "# Usaremos este notebook para quitar las columnas que no son relevantes (o si lo son pero no las voy a usar)"
   ]
  },
  {
   "cell_type": "code",
   "execution_count": 1,
   "metadata": {},
   "outputs": [],
   "source": [
    "import pandas as pd\n",
    "from csv_2_json import ruta"
   ]
  },
  {
   "cell_type": "code",
   "execution_count": 2,
   "metadata": {},
   "outputs": [],
   "source": [
    "df1 = pd.read_csv(ruta('ucl_defensive_actions.csv'))"
   ]
  },
  {
   "cell_type": "code",
   "execution_count": 3,
   "metadata": {},
   "outputs": [
    {
     "data": {
      "text/html": [
       "<div>\n",
       "<style scoped>\n",
       "    .dataframe tbody tr th:only-of-type {\n",
       "        vertical-align: middle;\n",
       "    }\n",
       "\n",
       "    .dataframe tbody tr th {\n",
       "        vertical-align: top;\n",
       "    }\n",
       "\n",
       "    .dataframe thead th {\n",
       "        text-align: right;\n",
       "    }\n",
       "</style>\n",
       "<table border=\"1\" class=\"dataframe\">\n",
       "  <thead>\n",
       "    <tr style=\"text-align: right;\">\n",
       "      <th></th>\n",
       "      <th>Player</th>\n",
       "      <th>Nationality</th>\n",
       "      <th>Position</th>\n",
       "      <th>Club</th>\n",
       "      <th>Age</th>\n",
       "      <th>Born</th>\n",
       "      <th>90s</th>\n",
       "      <th>No. of players tackled</th>\n",
       "      <th>Tackles won</th>\n",
       "      <th>Tackles (Def 3rd)</th>\n",
       "      <th>...</th>\n",
       "      <th>Dribbles challenged (total)</th>\n",
       "      <th>% of dribblers successfully tackled</th>\n",
       "      <th>challenges lost</th>\n",
       "      <th>Blocks</th>\n",
       "      <th>Shots blocked</th>\n",
       "      <th>Passes blocked</th>\n",
       "      <th>Interceptions</th>\n",
       "      <th>Tackles + internceptions</th>\n",
       "      <th>Clearances</th>\n",
       "      <th>Errors</th>\n",
       "    </tr>\n",
       "  </thead>\n",
       "  <tbody>\n",
       "    <tr>\n",
       "      <th>477</th>\n",
       "      <td>Nacho</td>\n",
       "      <td>ESP</td>\n",
       "      <td>DF</td>\n",
       "      <td>Real Madrid</td>\n",
       "      <td>32</td>\n",
       "      <td>1990</td>\n",
       "      <td>4.9</td>\n",
       "      <td>9</td>\n",
       "      <td>5</td>\n",
       "      <td>5</td>\n",
       "      <td>...</td>\n",
       "      <td>12</td>\n",
       "      <td>33.3</td>\n",
       "      <td>8</td>\n",
       "      <td>5</td>\n",
       "      <td>4</td>\n",
       "      <td>1</td>\n",
       "      <td>17</td>\n",
       "      <td>26</td>\n",
       "      <td>16</td>\n",
       "      <td>0</td>\n",
       "    </tr>\n",
       "  </tbody>\n",
       "</table>\n",
       "<p>1 rows × 23 columns</p>\n",
       "</div>"
      ],
      "text/plain": [
       "    Player Nationality Position         Club  Age  Born  90s  \\\n",
       "477  Nacho         ESP       DF  Real Madrid   32  1990  4.9   \n",
       "\n",
       "     No. of players tackled  Tackles won  Tackles (Def 3rd)  ...  \\\n",
       "477                       9            5                  5  ...   \n",
       "\n",
       "     Dribbles challenged (total)  % of dribblers successfully tackled  \\\n",
       "477                           12                                 33.3   \n",
       "\n",
       "     challenges lost  Blocks  Shots blocked  Passes blocked  Interceptions  \\\n",
       "477                8       5              4               1             17   \n",
       "\n",
       "     Tackles + internceptions  Clearances  Errors  \n",
       "477                        26          16       0  \n",
       "\n",
       "[1 rows x 23 columns]"
      ]
     },
     "execution_count": 3,
     "metadata": {},
     "output_type": "execute_result"
    }
   ],
   "source": [
    "df1[df1['Player'] == 'Nacho'].head()"
   ]
  },
  {
   "cell_type": "code",
   "execution_count": 4,
   "metadata": {},
   "outputs": [
    {
     "data": {
      "text/plain": [
       "Index(['Player', 'Nationality', 'Position', 'Club', 'Age', 'Born', '90s',\n",
       "       'No. of players tackled', 'Tackles won', 'Tackles (Def 3rd)',\n",
       "       'Tackles (Mid 3rd)', 'Tackles (Att 3rd)', 'No. of dribblers tackled',\n",
       "       'Dribbles challenged (total)', '% of dribblers successfully tackled',\n",
       "       'challenges lost', 'Blocks', 'Shots blocked', 'Passes blocked',\n",
       "       'Interceptions', 'Tackles + internceptions', 'Clearances', 'Errors'],\n",
       "      dtype='object')"
      ]
     },
     "execution_count": 4,
     "metadata": {},
     "output_type": "execute_result"
    }
   ],
   "source": [
    "df1.columns"
   ]
  },
  {
   "cell_type": "markdown",
   "metadata": {},
   "source": [
    "1. **Player**: Nombre del jugador.\n",
    "2. **Nationality**: Nacionalidad del jugador.\n",
    "3. **Position**: Posición en la que juega en el campo (en este caso, defensa).\n",
    "4. **Club**: Club de fútbol al que pertenece el jugador.\n",
    "5. **Age**: Edad del jugador.\n",
    "6. **Born**: Año de nacimiento del jugador.\n",
    "7. **90s**: Partidos completos jugados, representados en términos de 90 minutos.\n",
    "8. **No. of players tackled**: Número de jugadores diferentes a los que el defensa ha tacleado.\n",
    "9. **Tackles won**: Entradas exitosas que resultan en la recuperación del balón.\n",
    "10. **Tackles (Def 3rd)**: Entradas realizadas en el tercio defensivo del campo.\n",
    "11. **Tackles (Mid 3rd)**: Entradas realizadas en el tercio medio del campo.\n",
    "12. **Tackles (Att 3rd)**: Entradas realizadas en el tercio ofensivo del campo.\n",
    "13. **No. of dribblers tackled**: Número de veces que el defensa ha tacleado a jugadores que intentaban driblar.\n",
    "14. **Dribbles challenged (total)**: Total de veces que el defensa ha intentado detener a un jugador en un intento de driblar.\n",
    "15. **% of dribblers successfully tackled**: Porcentaje de veces que el defensa ha tacleado exitosamente a un jugador que intentaba driblar.\n",
    "16. **Challenges lost**: Desafíos en los que el defensa ha sido superado, no logrando detener al atacante.\n",
    "17. **Blocks**: Veces que el defensa ha bloqueado el balón, impidiendo que progrese hacia su portería.\n",
    "18. **Shots blocked**: Disparos bloqueados directamente por el defensa.\n",
    "19. **Passes blocked**: Pases cortados o interceptados antes de que lleguen a otro jugador.\n",
    "20. **Interceptions**: Veces que el defensa intercepta el balón, cortando la jugada del equipo contrario.\n",
    "21. **Tackles + interceptions**: Suma total de entradas y interceptaciones realizadas por el defensa.\n",
    "22. **Clearances**: Despejes realizados para alejar el peligro de la zona defensiva.\n",
    "23. **Errors**: Errores cometidos que han llevado directamente a una oportunidad de gol del equipo contrario."
   ]
  },
  {
   "cell_type": "code",
   "execution_count": 5,
   "metadata": {},
   "outputs": [],
   "source": [
    "columnas_a_dropear = ['#OPA','Stp','Launch%.1','Att.2','Att.1',\"Launch%\",\"Cmp\",\"Att\"]\n",
    "df1.drop(columns=columnas_a_dropear, axis=1, inplace=True)\n",
    "df1.fillna(0, inplace=True)"
   ]
  },
  {
   "cell_type": "code",
   "execution_count": 6,
   "metadata": {},
   "outputs": [
    {
     "data": {
      "text/plain": [
       "Index(['Player', 'Nationality', 'Position', 'Club', 'Age', 'Born', '90s', 'GA',\n",
       "       'PKA', 'FK', 'CK', 'OG', 'PSxG', 'PSxG/SoT', 'PSxG+/-', '/90', 'Cmp%',\n",
       "       'Thr', 'AvgLen', 'AvgLen.1', 'Opp', 'Stp%', '#OPA/90', 'AvgDist'],\n",
       "      dtype='object')"
      ]
     },
     "execution_count": 6,
     "metadata": {},
     "output_type": "execute_result"
    }
   ],
   "source": [
    "df1.columns"
   ]
  },
  {
   "cell_type": "code",
   "execution_count": 7,
   "metadata": {},
   "outputs": [],
   "source": [
    "df1.to_csv(r'docs\\data\\limpio\\ucl_defensive_actions.csv')"
   ]
  }
 ],
 "metadata": {
  "kernelspec": {
   "display_name": "entorno",
   "language": "python",
   "name": "python3"
  },
  "language_info": {
   "codemirror_mode": {
    "name": "ipython",
    "version": 3
   },
   "file_extension": ".py",
   "mimetype": "text/x-python",
   "name": "python",
   "nbconvert_exporter": "python",
   "pygments_lexer": "ipython3",
   "version": "3.11.5"
  }
 },
 "nbformat": 4,
 "nbformat_minor": 2
}
