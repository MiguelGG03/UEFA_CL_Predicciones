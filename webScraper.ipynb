{
 "cells": [
  {
   "cell_type": "markdown",
   "metadata": {},
   "source": [
    "# Scrapear páginas de la uefa"
   ]
  },
  {
   "cell_type": "code",
   "execution_count": 1,
   "metadata": {},
   "outputs": [],
   "source": [
    "from bs4 import BeautifulSoup\n",
    "import requests\n",
    "import re"
   ]
  },
  {
   "cell_type": "markdown",
   "metadata": {},
   "source": [
    "Los enlaces que vamos a utilizar son suficientes"
   ]
  },
  {
   "cell_type": "code",
   "execution_count": 2,
   "metadata": {},
   "outputs": [],
   "source": [
    "link_goles = \"https://www.uefa.com/uefachampionsleague/statistics/clubs/goals/?sortby=goals\"\n",
    "link_posesion = \"https://www.uefa.com/uefachampionsleague/statistics/clubs/distribution/?sortBy=ball_possession\"\n",
    "link_pases = \"https://www.uefa.com/uefachampionsleague/statistics/clubs/distribution/?sortBy=passes_accuracy\"\n",
    "link_segadas = \"https://www.uefa.com/uefachampionsleague/statistics/clubs/defending/?sortBy=tackles\"\n",
    "link_balonesRecuperados = \"https://www.uefa.com/uefachampionsleague/statistics/clubs/defending/?sortBy=recovered_ball\"\n",
    "link_salvadas = \"https://www.uefa.com/uefachampionsleague/statistics/clubs/goalkeeping/?sortBy=saves\"\n",
    "link_porteriasACero = \"https://www.uefa.com/uefachampionsleague/statistics/clubs/goalkeeping/?sortBy=clean_sheet\""
   ]
  },
  {
   "cell_type": "code",
   "execution_count": 5,
   "metadata": {},
   "outputs": [],
   "source": [
    "def get_data(link):\n",
    "    response = requests.get(link)\n",
    "    soup = BeautifulSoup(response.text, \"html.parser\")\n",
    "    return soup"
   ]
  },
  {
   "cell_type": "markdown",
   "metadata": {},
   "source": [
    "Voy a empezar scrapeando la de los goles"
   ]
  },
  {
   "cell_type": "markdown",
   "metadata": {},
   "source": [
    "Probando con esta página, no se permite hacer peticiones a la API, por lo que manualmente voy a usar los htmls"
   ]
  },
  {
   "cell_type": "code",
   "execution_count": null,
   "metadata": {},
   "outputs": [],
   "source": []
  }
 ],
 "metadata": {
  "kernelspec": {
   "display_name": "Python 3",
   "language": "python",
   "name": "python3"
  },
  "language_info": {
   "codemirror_mode": {
    "name": "ipython",
    "version": 3
   },
   "file_extension": ".py",
   "mimetype": "text/x-python",
   "name": "python",
   "nbconvert_exporter": "python",
   "pygments_lexer": "ipython3",
   "version": "3.11.5"
  }
 },
 "nbformat": 4,
 "nbformat_minor": 2
}
