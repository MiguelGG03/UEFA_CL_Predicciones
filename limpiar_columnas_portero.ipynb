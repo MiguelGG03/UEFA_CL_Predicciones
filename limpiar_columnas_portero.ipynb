{
 "cells": [
  {
   "cell_type": "markdown",
   "metadata": {},
   "source": [
    "# Usaremos este notebook para quitar las columnas que no son relevantes (o si lo son pero no las voy a usar)"
   ]
  },
  {
   "cell_type": "code",
   "execution_count": 1,
   "metadata": {},
   "outputs": [],
   "source": [
    "import pandas as pd\n",
    "from csv_2_json import ruta"
   ]
  },
  {
   "cell_type": "code",
   "execution_count": 2,
   "metadata": {},
   "outputs": [],
   "source": [
    "df1 = pd.read_csv(ruta('ucl_advanced_goalkeeping.csv'))"
   ]
  },
  {
   "cell_type": "code",
   "execution_count": 3,
   "metadata": {},
   "outputs": [
    {
     "data": {
      "text/html": [
       "<div>\n",
       "<style scoped>\n",
       "    .dataframe tbody tr th:only-of-type {\n",
       "        vertical-align: middle;\n",
       "    }\n",
       "\n",
       "    .dataframe tbody tr th {\n",
       "        vertical-align: top;\n",
       "    }\n",
       "\n",
       "    .dataframe thead th {\n",
       "        text-align: right;\n",
       "    }\n",
       "</style>\n",
       "<table border=\"1\" class=\"dataframe\">\n",
       "  <thead>\n",
       "    <tr style=\"text-align: right;\">\n",
       "      <th></th>\n",
       "      <th>Player</th>\n",
       "      <th>Nationality</th>\n",
       "      <th>Position</th>\n",
       "      <th>Club</th>\n",
       "      <th>Age</th>\n",
       "      <th>Born</th>\n",
       "      <th>90s</th>\n",
       "      <th>GA</th>\n",
       "      <th>PKA</th>\n",
       "      <th>FK</th>\n",
       "      <th>...</th>\n",
       "      <th>AvgLen</th>\n",
       "      <th>Att.2</th>\n",
       "      <th>Launch%.1</th>\n",
       "      <th>AvgLen.1</th>\n",
       "      <th>Opp</th>\n",
       "      <th>Stp</th>\n",
       "      <th>Stp%</th>\n",
       "      <th>#OPA</th>\n",
       "      <th>#OPA/90</th>\n",
       "      <th>AvgDist</th>\n",
       "    </tr>\n",
       "  </thead>\n",
       "  <tbody>\n",
       "    <tr>\n",
       "      <th>7</th>\n",
       "      <td>Thibaut Courtois</td>\n",
       "      <td>BEL</td>\n",
       "      <td>GK</td>\n",
       "      <td>Real Madrid</td>\n",
       "      <td>30</td>\n",
       "      <td>1992</td>\n",
       "      <td>10</td>\n",
       "      <td>11</td>\n",
       "      <td>0</td>\n",
       "      <td>1</td>\n",
       "      <td>...</td>\n",
       "      <td>30</td>\n",
       "      <td>54</td>\n",
       "      <td>44.4</td>\n",
       "      <td>42.9</td>\n",
       "      <td>134</td>\n",
       "      <td>9</td>\n",
       "      <td>6.7</td>\n",
       "      <td>5</td>\n",
       "      <td>0.5</td>\n",
       "      <td>11.5</td>\n",
       "    </tr>\n",
       "  </tbody>\n",
       "</table>\n",
       "<p>1 rows × 32 columns</p>\n",
       "</div>"
      ],
      "text/plain": [
       "             Player Nationality Position         Club Age  Born 90s  GA PKA  \\\n",
       "7  Thibaut Courtois         BEL       GK  Real Madrid  30  1992  10  11   0   \n",
       "\n",
       "  FK  ... AvgLen Att.2 Launch%.1 AvgLen.1  Opp Stp Stp% #OPA #OPA/90 AvgDist  \n",
       "7  1  ...     30    54      44.4     42.9  134   9  6.7    5     0.5    11.5  \n",
       "\n",
       "[1 rows x 32 columns]"
      ]
     },
     "execution_count": 3,
     "metadata": {},
     "output_type": "execute_result"
    }
   ],
   "source": [
    "df1[df1['Player'] == 'Thibaut Courtois'].head()"
   ]
  },
  {
   "cell_type": "code",
   "execution_count": 4,
   "metadata": {},
   "outputs": [
    {
     "data": {
      "text/plain": [
       "Index(['Player', 'Nationality', 'Position', 'Club', 'Age', 'Born', '90s', 'GA',\n",
       "       'PKA', 'FK', 'CK', 'OG', 'PSxG', 'PSxG/SoT', 'PSxG+/-', '/90', 'Cmp',\n",
       "       'Att', 'Cmp%', 'Att.1', 'Thr', 'Launch%', 'AvgLen', 'Att.2',\n",
       "       'Launch%.1', 'AvgLen.1', 'Opp', 'Stp', 'Stp%', '#OPA', '#OPA/90',\n",
       "       'AvgDist'],\n",
       "      dtype='object')"
      ]
     },
     "execution_count": 4,
     "metadata": {},
     "output_type": "execute_result"
    }
   ],
   "source": [
    "df1.columns"
   ]
  },
  {
   "cell_type": "markdown",
   "metadata": {},
   "source": [
    "1. **'90s'**: Número de partidos jugados, expresado en múltiplos de 90 minutos.\n",
    "\n",
    "2. **'GA'**: Goles encajados.\n",
    "\n",
    "3. **'PKA'**: Penales encajados.\n",
    "\n",
    "4. **'FK'**: Goles encajados de tiros libres.\n",
    "\n",
    "5. **'CK'**: Goles encajados de saques de esquina.\n",
    "\n",
    "6. **'OG'**: Autogoles (goles en propia meta).\n",
    "\n",
    "7. **'PSxG'**: Post-Shot Expected Goals. Goles esperados después de que el tiro haya sido realizado hacia el arco, una medida de cuántos goles un portero debería haber encajado, dadas las características de los tiros que enfrentó.\n",
    "\n",
    "8. **'PSxG/SoT'**: PSxG por tiro a puerta (Shot on Target). Mide la calidad promedio de los tiros a puerta que enfrenta un portero.\n",
    "\n",
    "9. **'PSxG+/-'**: Diferencia entre los goles encajados reales y los PSxG, indica el rendimiento del portero comparado con lo esperado.\n",
    "\n",
    "10. **'/90'**: Estadísticas prorrateadas por cada 90 minutos de juego.\n",
    "\n",
    "11. **'Cmp'**: Pases completados.\n",
    "\n",
    "12. **'Att'**: Intentos de pase.\n",
    "\n",
    "13. **'Cmp%'**: Porcentaje de pases completados.\n",
    "\n",
    "14. **'Att.1'**: Intentos de algo (podría necesitar contexto adicional, posiblemente pases largos).\n",
    "\n",
    "15. **'Thr'**: Saques de puerta (throws).\n",
    "\n",
    "16. **'Launch%'**: Porcentaje de balones lanzados al área contraria.\n",
    "\n",
    "17. **'AvgLen'**: Longitud promedio de los saques o pases del portero.\n",
    "\n",
    "18. **'Att.2'**: Otro tipo de intentos (necesitaría más contexto, podría ser intentos de pase largo).\n",
    "\n",
    "19. **'Launch%.1'**: Otra métrica de lanzamientos, posiblemente específica para otro tipo de lanzamientos.\n",
    "\n",
    "20. **'AvgLen.1'**: Longitud promedio de otro tipo de despejes o pases.\n",
    "\n",
    "21. **'Opp'**: Oportunidades o disparos enfrentados.\n",
    "\n",
    "22. **'Stp'**: Paradas realizadas.\n",
    "\n",
    "23. **'Stp%'**: Porcentaje de paradas, indicando eficiencia.\n",
    "\n",
    "24. **'#OPA'**: Oportunidades de Paradas Avanzadas, una métrica avanzada de paradas realizadas más allá de las expectativas.\n",
    "\n",
    "25. **'#OPA/90'**: Oportunidades de Paradas Avanzadas por cada 90 minutos.\n",
    "\n",
    "26. **'AvgDist'**: Distancia promedio desde la línea de gol cuando el portero interviene o juega el balón."
   ]
  },
  {
   "cell_type": "code",
   "execution_count": 5,
   "metadata": {},
   "outputs": [],
   "source": [
    "columnas_a_dropear = ['#OPA','Stp','Launch%.1','Att.2','Att.1',\"Launch%\",\"Cmp\",\"Att\"]\n",
    "df1.drop(columns=columnas_a_dropear, axis=1, inplace=True)\n",
    "df1.fillna(0, inplace=True)"
   ]
  },
  {
   "cell_type": "code",
   "execution_count": 6,
   "metadata": {},
   "outputs": [
    {
     "data": {
      "text/plain": [
       "Index(['Player', 'Nationality', 'Position', 'Club', 'Age', 'Born', '90s', 'GA',\n",
       "       'PKA', 'FK', 'CK', 'OG', 'PSxG', 'PSxG/SoT', 'PSxG+/-', '/90', 'Cmp%',\n",
       "       'Thr', 'AvgLen', 'AvgLen.1', 'Opp', 'Stp%', '#OPA/90', 'AvgDist'],\n",
       "      dtype='object')"
      ]
     },
     "execution_count": 6,
     "metadata": {},
     "output_type": "execute_result"
    }
   ],
   "source": [
    "df1.columns"
   ]
  },
  {
   "cell_type": "code",
   "execution_count": 7,
   "metadata": {},
   "outputs": [],
   "source": [
    "df1.to_csv(r'docs\\data\\limpio\\ucl_advanced_goalkeeping.csv')"
   ]
  },
  {
   "cell_type": "markdown",
   "metadata": {},
   "source": [
    "## Segundo dataframe"
   ]
  },
  {
   "cell_type": "code",
   "execution_count": 8,
   "metadata": {},
   "outputs": [],
   "source": [
    "df2 = pd.read_csv(ruta('ucl_goalkeeper.csv'))"
   ]
  },
  {
   "cell_type": "code",
   "execution_count": 9,
   "metadata": {},
   "outputs": [
    {
     "data": {
      "text/html": [
       "<div>\n",
       "<style scoped>\n",
       "    .dataframe tbody tr th:only-of-type {\n",
       "        vertical-align: middle;\n",
       "    }\n",
       "\n",
       "    .dataframe tbody tr th {\n",
       "        vertical-align: top;\n",
       "    }\n",
       "\n",
       "    .dataframe thead th {\n",
       "        text-align: right;\n",
       "    }\n",
       "</style>\n",
       "<table border=\"1\" class=\"dataframe\">\n",
       "  <thead>\n",
       "    <tr style=\"text-align: right;\">\n",
       "      <th></th>\n",
       "      <th>Player</th>\n",
       "      <th>Nationality</th>\n",
       "      <th>Position</th>\n",
       "      <th>Club</th>\n",
       "      <th>Age</th>\n",
       "      <th>Born</th>\n",
       "      <th>MP</th>\n",
       "      <th>Starts</th>\n",
       "      <th>Min</th>\n",
       "      <th>90s</th>\n",
       "      <th>...</th>\n",
       "      <th>W</th>\n",
       "      <th>D</th>\n",
       "      <th>L</th>\n",
       "      <th>CS</th>\n",
       "      <th>CS%</th>\n",
       "      <th>PKatt</th>\n",
       "      <th>PKA</th>\n",
       "      <th>PKsv</th>\n",
       "      <th>PKm</th>\n",
       "      <th>Save%.1</th>\n",
       "    </tr>\n",
       "  </thead>\n",
       "  <tbody>\n",
       "    <tr>\n",
       "      <th>0</th>\n",
       "      <td>Antonio Adán</td>\n",
       "      <td>ESP</td>\n",
       "      <td>GK</td>\n",
       "      <td>Sporting CP</td>\n",
       "      <td>35</td>\n",
       "      <td>1987</td>\n",
       "      <td>5</td>\n",
       "      <td>5</td>\n",
       "      <td>382</td>\n",
       "      <td>4.2</td>\n",
       "      <td>...</td>\n",
       "      <td>2</td>\n",
       "      <td>1</td>\n",
       "      <td>2</td>\n",
       "      <td>2</td>\n",
       "      <td>40.0</td>\n",
       "      <td>1</td>\n",
       "      <td>1</td>\n",
       "      <td>0</td>\n",
       "      <td>0</td>\n",
       "      <td>0.0</td>\n",
       "    </tr>\n",
       "    <tr>\n",
       "      <th>1</th>\n",
       "      <td>Alisson</td>\n",
       "      <td>BRA</td>\n",
       "      <td>GK</td>\n",
       "      <td>Liverpool</td>\n",
       "      <td>29</td>\n",
       "      <td>1992</td>\n",
       "      <td>8</td>\n",
       "      <td>8</td>\n",
       "      <td>720</td>\n",
       "      <td>8.0</td>\n",
       "      <td>...</td>\n",
       "      <td>5</td>\n",
       "      <td>0</td>\n",
       "      <td>3</td>\n",
       "      <td>3</td>\n",
       "      <td>37.5</td>\n",
       "      <td>2</td>\n",
       "      <td>1</td>\n",
       "      <td>1</td>\n",
       "      <td>0</td>\n",
       "      <td>50.0</td>\n",
       "    </tr>\n",
       "    <tr>\n",
       "      <th>2</th>\n",
       "      <td>Kepa Arrizabalaga</td>\n",
       "      <td>ESP</td>\n",
       "      <td>GK</td>\n",
       "      <td>Chelsea</td>\n",
       "      <td>27</td>\n",
       "      <td>1994</td>\n",
       "      <td>9</td>\n",
       "      <td>9</td>\n",
       "      <td>810</td>\n",
       "      <td>9.0</td>\n",
       "      <td>...</td>\n",
       "      <td>4</td>\n",
       "      <td>1</td>\n",
       "      <td>4</td>\n",
       "      <td>3</td>\n",
       "      <td>33.3</td>\n",
       "      <td>0</td>\n",
       "      <td>0</td>\n",
       "      <td>0</td>\n",
       "      <td>0</td>\n",
       "      <td>NaN</td>\n",
       "    </tr>\n",
       "    <tr>\n",
       "      <th>3</th>\n",
       "      <td>Janis Blaswich</td>\n",
       "      <td>GER</td>\n",
       "      <td>GK</td>\n",
       "      <td>RB Leipzig</td>\n",
       "      <td>31</td>\n",
       "      <td>1991</td>\n",
       "      <td>6</td>\n",
       "      <td>5</td>\n",
       "      <td>528</td>\n",
       "      <td>5.9</td>\n",
       "      <td>...</td>\n",
       "      <td>3</td>\n",
       "      <td>1</td>\n",
       "      <td>1</td>\n",
       "      <td>2</td>\n",
       "      <td>40.0</td>\n",
       "      <td>2</td>\n",
       "      <td>2</td>\n",
       "      <td>0</td>\n",
       "      <td>0</td>\n",
       "      <td>0.0</td>\n",
       "    </tr>\n",
       "    <tr>\n",
       "      <th>4</th>\n",
       "      <td>Yassine Bounou</td>\n",
       "      <td>MAR</td>\n",
       "      <td>GK</td>\n",
       "      <td>Sevilla</td>\n",
       "      <td>31</td>\n",
       "      <td>1991</td>\n",
       "      <td>4</td>\n",
       "      <td>4</td>\n",
       "      <td>360</td>\n",
       "      <td>4.0</td>\n",
       "      <td>...</td>\n",
       "      <td>0</td>\n",
       "      <td>1</td>\n",
       "      <td>3</td>\n",
       "      <td>0</td>\n",
       "      <td>0.0</td>\n",
       "      <td>0</td>\n",
       "      <td>0</td>\n",
       "      <td>0</td>\n",
       "      <td>0</td>\n",
       "      <td>NaN</td>\n",
       "    </tr>\n",
       "  </tbody>\n",
       "</table>\n",
       "<p>5 rows × 25 columns</p>\n",
       "</div>"
      ],
      "text/plain": [
       "              Player Nationality Position         Club  Age  Born  MP  Starts  \\\n",
       "0       Antonio Adán         ESP       GK  Sporting CP   35  1987   5       5   \n",
       "1            Alisson         BRA       GK    Liverpool   29  1992   8       8   \n",
       "2  Kepa Arrizabalaga         ESP       GK      Chelsea   27  1994   9       9   \n",
       "3     Janis Blaswich         GER       GK   RB Leipzig   31  1991   6       5   \n",
       "4     Yassine Bounou         MAR       GK      Sevilla   31  1991   4       4   \n",
       "\n",
       "   Min  90s  ...  W  D  L  CS   CS%  PKatt  PKA  PKsv  PKm  Save%.1  \n",
       "0  382  4.2  ...  2  1  2   2  40.0      1    1     0    0      0.0  \n",
       "1  720  8.0  ...  5  0  3   3  37.5      2    1     1    0     50.0  \n",
       "2  810  9.0  ...  4  1  4   3  33.3      0    0     0    0      NaN  \n",
       "3  528  5.9  ...  3  1  1   2  40.0      2    2     0    0      0.0  \n",
       "4  360  4.0  ...  0  1  3   0   0.0      0    0     0    0      NaN  \n",
       "\n",
       "[5 rows x 25 columns]"
      ]
     },
     "execution_count": 9,
     "metadata": {},
     "output_type": "execute_result"
    }
   ],
   "source": [
    "df2.head()"
   ]
  },
  {
   "cell_type": "code",
   "execution_count": 10,
   "metadata": {},
   "outputs": [
    {
     "data": {
      "text/plain": [
       "Index(['Player', 'Nationality', 'Position', 'Club', 'Age', 'Born', 'MP',\n",
       "       'Starts', 'Min', '90s', 'GA', 'GA90', 'SoTA', 'Saves', 'Save%', 'W',\n",
       "       'D', 'L', 'CS', 'CS%', 'PKatt', 'PKA', 'PKsv', 'PKm', 'Save%.1'],\n",
       "      dtype='object')"
      ]
     },
     "execution_count": 10,
     "metadata": {},
     "output_type": "execute_result"
    }
   ],
   "source": [
    "df2.columns"
   ]
  },
  {
   "cell_type": "markdown",
   "metadata": {},
   "source": [
    "1. **'MP'**: Matches Played (Partidos jugados). Total de partidos en los que el portero ha participado.\n",
    "\n",
    "2. **'Starts'**: Número de partidos en los que el portero ha sido titular.\n",
    "\n",
    "3. **'Min'**: Minutes (Minutos jugados). Total de minutos que el portero ha estado en el campo.\n",
    "\n",
    "4. **'90s'**: Número de partidos jugados, expresado en múltiplos de 90 minutos (equivalente a un partido completo).\n",
    "\n",
    "5. **'GA'**: Goals Allowed (Goles encajados). Total de goles que el portero ha recibido.\n",
    "\n",
    "6. **'GA90'**: Goles encajados por cada 90 minutos. Esto muestra el promedio de goles recibidos en un partido completo.\n",
    "\n",
    "7. **'SoTA'**: Shots on Target Against (Tiros a puerta enfrentados). Cantidad de tiros dirigidos a la portería que el portero ha enfrentado.\n",
    "\n",
    "8. **'Saves'**: Paradas realizadas.\n",
    "\n",
    "9. **'Save%'**: Porcentaje de paradas, calculado como el número de tiros a puerta parados dividido por el total de tiros a puerta enfrentados.\n",
    "\n",
    "10. **'W'**: Wins (Victorias). Número de partidos ganados con el portero en juego.\n",
    "\n",
    "11. **'D'**: Draws (Empates). Número de partidos empatados con el portero en juego.\n",
    "\n",
    "12. **'L'**: Losses (Derrotas). Número de partidos perdidos con el portero en juego.\n",
    "\n",
    "13. **'CS'**: Clean Sheets (Porterías a cero). Número de partidos en los que el portero no ha encajado ningún gol.\n",
    "\n",
    "14. **'CS%'**: Porcentaje de Porterías a cero, calculado como el número de partidos sin encajar goles dividido por el total de partidos jugados.\n",
    "\n",
    "15. **'PKatt'**: Penalty Kicks Attempted (Penales enfrentados). Número de penales que el portero ha enfrentado.\n",
    "\n",
    "16. **'PKA'**: Penalty Kicks Allowed (Penales encajados). Número de penales que han resultado en gol.\n",
    "\n",
    "17. **'PKsv'**: Penalty Kicks Saved (Penales parados). Número de penales que el portero ha logrado parar.\n",
    "\n",
    "18. **'PKm'**: Penalty Kicks Missed (Penales fallados). Número de penales que los adversarios han fallado (disparados fuera o al poste).\n",
    "\n",
    "19. **'Save%.1'**: Podría ser una repetición del porcentaje de paradas en una situación específica (como paradas en juego abierto o específicamente en penales), dependiendo del contexto del dato."
   ]
  },
  {
   "cell_type": "code",
   "execution_count": 11,
   "metadata": {},
   "outputs": [],
   "source": [
    "columnas_a_dropear = ['Save%.1', 'Saves', 'CS', 'GA']"
   ]
  },
  {
   "cell_type": "code",
   "execution_count": 12,
   "metadata": {},
   "outputs": [],
   "source": [
    "df2.drop(columns=columnas_a_dropear, axis=1, inplace=True)\n",
    "df2.fillna(0, inplace=True)"
   ]
  },
  {
   "cell_type": "code",
   "execution_count": 13,
   "metadata": {},
   "outputs": [
    {
     "data": {
      "text/plain": [
       "Index(['Player', 'Nationality', 'Position', 'Club', 'Age', 'Born', 'MP',\n",
       "       'Starts', 'Min', '90s', 'GA90', 'SoTA', 'Save%', 'W', 'D', 'L', 'CS%',\n",
       "       'PKatt', 'PKA', 'PKsv', 'PKm'],\n",
       "      dtype='object')"
      ]
     },
     "execution_count": 13,
     "metadata": {},
     "output_type": "execute_result"
    }
   ],
   "source": [
    "df2.columns"
   ]
  },
  {
   "cell_type": "code",
   "execution_count": 14,
   "metadata": {},
   "outputs": [],
   "source": [
    "df2.to_csv(r'docs\\data\\limpio\\ucl_goalkeeper.csv')"
   ]
  },
  {
   "cell_type": "markdown",
   "metadata": {},
   "source": [
    "# Ahora tocan los defensas"
   ]
  },
  {
   "cell_type": "code",
   "execution_count": null,
   "metadata": {},
   "outputs": [],
   "source": []
  }
 ],
 "metadata": {
  "kernelspec": {
   "display_name": "entorno",
   "language": "python",
   "name": "python3"
  },
  "language_info": {
   "codemirror_mode": {
    "name": "ipython",
    "version": 3
   },
   "file_extension": ".py",
   "mimetype": "text/x-python",
   "name": "python",
   "nbconvert_exporter": "python",
   "pygments_lexer": "ipython3",
   "version": "3.11.5"
  }
 },
 "nbformat": 4,
 "nbformat_minor": 2
}
