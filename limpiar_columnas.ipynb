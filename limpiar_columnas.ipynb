{
 "cells": [
  {
   "cell_type": "markdown",
   "metadata": {},
   "source": [
    "# Usaremos este notebook para quitar las columnas que no son relevantes (o si lo son pero no las voy a usar)"
   ]
  },
  {
   "cell_type": "code",
   "execution_count": 14,
   "metadata": {},
   "outputs": [],
   "source": [
    "import pandas as pd\n",
    "from csv_2_json import ruta"
   ]
  },
  {
   "cell_type": "code",
   "execution_count": 15,
   "metadata": {},
   "outputs": [],
   "source": [
    "df1 = pd.read_csv(ruta('ucl_advanced_goalkeeping.csv'))"
   ]
  },
  {
   "cell_type": "code",
   "execution_count": 16,
   "metadata": {},
   "outputs": [
    {
     "data": {
      "text/html": [
       "<div>\n",
       "<style scoped>\n",
       "    .dataframe tbody tr th:only-of-type {\n",
       "        vertical-align: middle;\n",
       "    }\n",
       "\n",
       "    .dataframe tbody tr th {\n",
       "        vertical-align: top;\n",
       "    }\n",
       "\n",
       "    .dataframe thead th {\n",
       "        text-align: right;\n",
       "    }\n",
       "</style>\n",
       "<table border=\"1\" class=\"dataframe\">\n",
       "  <thead>\n",
       "    <tr style=\"text-align: right;\">\n",
       "      <th></th>\n",
       "      <th>Player</th>\n",
       "      <th>Nationality</th>\n",
       "      <th>Position</th>\n",
       "      <th>Club</th>\n",
       "      <th>Age</th>\n",
       "      <th>Born</th>\n",
       "      <th>90s</th>\n",
       "      <th>GA</th>\n",
       "      <th>PKA</th>\n",
       "      <th>FK</th>\n",
       "      <th>...</th>\n",
       "      <th>AvgLen</th>\n",
       "      <th>Att.2</th>\n",
       "      <th>Launch%.1</th>\n",
       "      <th>AvgLen.1</th>\n",
       "      <th>Opp</th>\n",
       "      <th>Stp</th>\n",
       "      <th>Stp%</th>\n",
       "      <th>#OPA</th>\n",
       "      <th>#OPA/90</th>\n",
       "      <th>AvgDist</th>\n",
       "    </tr>\n",
       "  </thead>\n",
       "  <tbody>\n",
       "    <tr>\n",
       "      <th>7</th>\n",
       "      <td>Thibaut Courtois</td>\n",
       "      <td>BEL</td>\n",
       "      <td>GK</td>\n",
       "      <td>Real Madrid</td>\n",
       "      <td>30</td>\n",
       "      <td>1992</td>\n",
       "      <td>10</td>\n",
       "      <td>11</td>\n",
       "      <td>0</td>\n",
       "      <td>1</td>\n",
       "      <td>...</td>\n",
       "      <td>30</td>\n",
       "      <td>54</td>\n",
       "      <td>44.4</td>\n",
       "      <td>42.9</td>\n",
       "      <td>134</td>\n",
       "      <td>9</td>\n",
       "      <td>6.7</td>\n",
       "      <td>5</td>\n",
       "      <td>0.5</td>\n",
       "      <td>11.5</td>\n",
       "    </tr>\n",
       "  </tbody>\n",
       "</table>\n",
       "<p>1 rows × 32 columns</p>\n",
       "</div>"
      ],
      "text/plain": [
       "             Player Nationality Position         Club Age  Born 90s  GA PKA  \\\n",
       "7  Thibaut Courtois         BEL       GK  Real Madrid  30  1992  10  11   0   \n",
       "\n",
       "  FK  ... AvgLen Att.2 Launch%.1 AvgLen.1  Opp Stp Stp% #OPA #OPA/90 AvgDist  \n",
       "7  1  ...     30    54      44.4     42.9  134   9  6.7    5     0.5    11.5  \n",
       "\n",
       "[1 rows x 32 columns]"
      ]
     },
     "execution_count": 16,
     "metadata": {},
     "output_type": "execute_result"
    }
   ],
   "source": [
    "df1[df1['Player'] == 'Thibaut Courtois'].head()"
   ]
  },
  {
   "cell_type": "code",
   "execution_count": 17,
   "metadata": {},
   "outputs": [
    {
     "data": {
      "text/plain": [
       "Index(['Player', 'Nationality', 'Position', 'Club', 'Age', 'Born', '90s', 'GA',\n",
       "       'PKA', 'FK', 'CK', 'OG', 'PSxG', 'PSxG/SoT', 'PSxG+/-', '/90', 'Cmp',\n",
       "       'Att', 'Cmp%', 'Att.1', 'Thr', 'Launch%', 'AvgLen', 'Att.2',\n",
       "       'Launch%.1', 'AvgLen.1', 'Opp', 'Stp', 'Stp%', '#OPA', '#OPA/90',\n",
       "       'AvgDist'],\n",
       "      dtype='object')"
      ]
     },
     "execution_count": 17,
     "metadata": {},
     "output_type": "execute_result"
    }
   ],
   "source": [
    "df1.columns"
   ]
  },
  {
   "cell_type": "markdown",
   "metadata": {},
   "source": [
    "1. **'90s'**: Número de partidos jugados, expresado en múltiplos de 90 minutos.\n",
    "\n",
    "2. **'GA'**: Goles encajados.\n",
    "\n",
    "3. **'PKA'**: Penales encajados.\n",
    "\n",
    "4. **'FK'**: Goles encajados de tiros libres.\n",
    "\n",
    "5. **'CK'**: Goles encajados de saques de esquina.\n",
    "\n",
    "6. **'OG'**: Autogoles (goles en propia meta).\n",
    "\n",
    "7. **'PSxG'**: Post-Shot Expected Goals. Goles esperados después de que el tiro haya sido realizado hacia el arco, una medida de cuántos goles un portero debería haber encajado, dadas las características de los tiros que enfrentó.\n",
    "\n",
    "8. **'PSxG/SoT'**: PSxG por tiro a puerta (Shot on Target). Mide la calidad promedio de los tiros a puerta que enfrenta un portero.\n",
    "\n",
    "9. **'PSxG+/-'**: Diferencia entre los goles encajados reales y los PSxG, indica el rendimiento del portero comparado con lo esperado.\n",
    "\n",
    "10. **'/90'**: Estadísticas prorrateadas por cada 90 minutos de juego.\n",
    "\n",
    "11. **'Cmp'**: Pases completados.\n",
    "\n",
    "12. **'Att'**: Intentos de pase.\n",
    "\n",
    "13. **'Cmp%'**: Porcentaje de pases completados.\n",
    "\n",
    "14. **'Att.1'**: Intentos de algo (podría necesitar contexto adicional, posiblemente pases largos).\n",
    "\n",
    "15. **'Thr'**: Saques de puerta (throws).\n",
    "\n",
    "16. **'Launch%'**: Porcentaje de balones lanzados al área contraria.\n",
    "\n",
    "17. **'AvgLen'**: Longitud promedio de los saques o pases del portero.\n",
    "\n",
    "18. **'Att.2'**: Otro tipo de intentos (necesitaría más contexto, podría ser intentos de pase largo).\n",
    "\n",
    "19. **'Launch%.1'**: Otra métrica de lanzamientos, posiblemente específica para otro tipo de lanzamientos.\n",
    "\n",
    "20. **'AvgLen.1'**: Longitud promedio de otro tipo de despejes o pases.\n",
    "\n",
    "21. **'Opp'**: Oportunidades o disparos enfrentados.\n",
    "\n",
    "22. **'Stp'**: Paradas realizadas.\n",
    "\n",
    "23. **'Stp%'**: Porcentaje de paradas, indicando eficiencia.\n",
    "\n",
    "24. **'#OPA'**: Oportunidades de Paradas Avanzadas, una métrica avanzada de paradas realizadas más allá de las expectativas.\n",
    "\n",
    "25. **'#OPA/90'**: Oportunidades de Paradas Avanzadas por cada 90 minutos.\n",
    "\n",
    "26. **'AvgDist'**: Distancia promedio desde la línea de gol cuando el portero interviene o juega el balón."
   ]
  },
  {
   "cell_type": "code",
   "execution_count": 18,
   "metadata": {},
   "outputs": [],
   "source": [
    "columnas_a_dropear = ['#OPA','Stp','Launch%.1','Att.2','Att.1',\"Launch%\",\"Cmp\",\"Att\"]\n",
    "df1.drop(columns=columnas_a_dropear, axis=1, inplace=True)"
   ]
  },
  {
   "cell_type": "code",
   "execution_count": 19,
   "metadata": {},
   "outputs": [
    {
     "data": {
      "text/plain": [
       "Index(['Player', 'Nationality', 'Position', 'Club', 'Age', 'Born', '90s', 'GA',\n",
       "       'PKA', 'FK', 'CK', 'OG', 'PSxG', 'PSxG/SoT', 'PSxG+/-', '/90', 'Cmp%',\n",
       "       'Thr', 'AvgLen', 'AvgLen.1', 'Opp', 'Stp%', '#OPA/90', 'AvgDist'],\n",
       "      dtype='object')"
      ]
     },
     "execution_count": 19,
     "metadata": {},
     "output_type": "execute_result"
    }
   ],
   "source": [
    "df1.columns"
   ]
  },
  {
   "cell_type": "code",
   "execution_count": 21,
   "metadata": {},
   "outputs": [],
   "source": [
    "df1.to_csv(r'docs\\data\\clear\\ucl_advanced_goalkeeping.csv')"
   ]
  },
  {
   "cell_type": "code",
   "execution_count": null,
   "metadata": {},
   "outputs": [],
   "source": []
  }
 ],
 "metadata": {
  "kernelspec": {
   "display_name": "entorno",
   "language": "python",
   "name": "python3"
  },
  "language_info": {
   "codemirror_mode": {
    "name": "ipython",
    "version": 3
   },
   "file_extension": ".py",
   "mimetype": "text/x-python",
   "name": "python",
   "nbconvert_exporter": "python",
   "pygments_lexer": "ipython3",
   "version": "3.11.5"
  }
 },
 "nbformat": 4,
 "nbformat_minor": 2
}
