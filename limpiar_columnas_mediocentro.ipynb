{
 "cells": [
  {
   "cell_type": "markdown",
   "metadata": {},
   "source": [
    "# Usaremos este notebook para quitar las columnas que no son relevantes (o si lo son pero no las voy a usar)"
   ]
  },
  {
   "cell_type": "code",
   "execution_count": 1,
   "metadata": {},
   "outputs": [],
   "source": [
    "import pandas as pd\n",
    "from csv_2_json import ruta"
   ]
  },
  {
   "cell_type": "code",
   "execution_count": 2,
   "metadata": {},
   "outputs": [],
   "source": [
    "df1 = pd.read_csv(ruta('ucl_passing.csv'))"
   ]
  },
  {
   "cell_type": "code",
   "execution_count": 5,
   "metadata": {},
   "outputs": [
    {
     "data": {
      "text/html": [
       "<div>\n",
       "<style scoped>\n",
       "    .dataframe tbody tr th:only-of-type {\n",
       "        vertical-align: middle;\n",
       "    }\n",
       "\n",
       "    .dataframe tbody tr th {\n",
       "        vertical-align: top;\n",
       "    }\n",
       "\n",
       "    .dataframe thead th {\n",
       "        text-align: right;\n",
       "    }\n",
       "</style>\n",
       "<table border=\"1\" class=\"dataframe\">\n",
       "  <thead>\n",
       "    <tr style=\"text-align: right;\">\n",
       "      <th></th>\n",
       "      <th>Player</th>\n",
       "      <th>Nationality</th>\n",
       "      <th>Position</th>\n",
       "      <th>Club</th>\n",
       "      <th>Age</th>\n",
       "      <th>Born</th>\n",
       "      <th>90s</th>\n",
       "      <th>Total Passes completed</th>\n",
       "      <th>Total Passes attempted</th>\n",
       "      <th>Total Passes completion %</th>\n",
       "      <th>...</th>\n",
       "      <th>Passes completed (long) %</th>\n",
       "      <th>Assists</th>\n",
       "      <th>Expected Assist Goals (xAG)</th>\n",
       "      <th>xA</th>\n",
       "      <th>A-xAG</th>\n",
       "      <th>Key Passes</th>\n",
       "      <th>Passes into Final third</th>\n",
       "      <th>Passes into Penalty Area</th>\n",
       "      <th>Crosses into Penalty Area</th>\n",
       "      <th>Progressive passes</th>\n",
       "    </tr>\n",
       "  </thead>\n",
       "  <tbody>\n",
       "    <tr>\n",
       "      <th>453</th>\n",
       "      <td>Luka Modrić</td>\n",
       "      <td>CRO</td>\n",
       "      <td>MF</td>\n",
       "      <td>Real Madrid</td>\n",
       "      <td>36</td>\n",
       "      <td>1985</td>\n",
       "      <td>8.3</td>\n",
       "      <td>526</td>\n",
       "      <td>598</td>\n",
       "      <td>88.0</td>\n",
       "      <td>...</td>\n",
       "      <td>60.0</td>\n",
       "      <td>1</td>\n",
       "      <td>1.1</td>\n",
       "      <td>1.9</td>\n",
       "      <td>-0.1</td>\n",
       "      <td>9</td>\n",
       "      <td>52</td>\n",
       "      <td>13</td>\n",
       "      <td>3</td>\n",
       "      <td>52</td>\n",
       "    </tr>\n",
       "  </tbody>\n",
       "</table>\n",
       "<p>1 rows × 30 columns</p>\n",
       "</div>"
      ],
      "text/plain": [
       "          Player Nationality Position        Club   Age  Born  90s  \\\n",
       "453  Luka Modrić         CRO       MF  Real Madrid   36  1985  8.3   \n",
       "\n",
       "     Total Passes completed  Total Passes attempted  \\\n",
       "453                     526                     598   \n",
       "\n",
       "     Total Passes completion %  ...  Passes completed (long) %  Assists  \\\n",
       "453                       88.0  ...                       60.0        1   \n",
       "\n",
       "     Expected Assist Goals (xAG)   xA  A-xAG  Key Passes  \\\n",
       "453                          1.1  1.9   -0.1           9   \n",
       "\n",
       "     Passes into Final third  Passes into Penalty Area  \\\n",
       "453                       52                        13   \n",
       "\n",
       "     Crosses into Penalty Area  Progressive passes  \n",
       "453                          3                  52  \n",
       "\n",
       "[1 rows x 30 columns]"
      ]
     },
     "execution_count": 5,
     "metadata": {},
     "output_type": "execute_result"
    }
   ],
   "source": [
    "df1[df1['Player'] == 'Luka Modrić'].head()"
   ]
  },
  {
   "cell_type": "code",
   "execution_count": 6,
   "metadata": {},
   "outputs": [
    {
     "data": {
      "text/plain": [
       "Index(['Player', 'Nationality', 'Position', 'Club ', 'Age', 'Born', '90s',\n",
       "       'Total Passes completed', 'Total Passes attempted',\n",
       "       'Total Passes completion %', 'Total passing distance',\n",
       "       'Progressive passing distance', 'Passes attempted (short)',\n",
       "       'Passes completed (short)', 'Passes completed (short) %',\n",
       "       'Passes attempted (medium)', 'Passes completed (medium)',\n",
       "       'Passes completed (medium) %', 'Passes attempted (long)',\n",
       "       'Passes completed (long)', 'Passes completed (long) %', 'Assists',\n",
       "       'Expected Assist Goals (xAG)', 'xA', 'A-xAG', 'Key Passes',\n",
       "       'Passes into Final third', 'Passes into Penalty Area',\n",
       "       'Crosses into Penalty Area', 'Progressive passes'],\n",
       "      dtype='object')"
      ]
     },
     "execution_count": 6,
     "metadata": {},
     "output_type": "execute_result"
    }
   ],
   "source": [
    "df1.columns"
   ]
  },
  {
   "cell_type": "markdown",
   "metadata": {},
   "source": [
    "1. **Player**: Nombre del jugador.\n",
    "2. **Nationality**: Nacionalidad del jugador.\n",
    "3. **Position**: Posición en la que juega en el campo, en este caso, mediocentro.\n",
    "4. **Club**: Club de fútbol al que pertenece el jugador.\n",
    "5. **Age**: Edad del jugador.\n",
    "6. **Born**: Año de nacimiento del jugador.\n",
    "7. **90s**: Número de periodos completos de 90 minutos jugados.\n",
    "8. **Total Passes completed**: Total de pases completados con éxito.\n",
    "9. **Total Passes attempted**: Total de pases intentados.\n",
    "10. **Total Passes completion %**: Porcentaje de pases completados con éxito.\n",
    "11. **Total passing distance**: Distancia total recorrida por los pases del jugador.\n",
    "12. **Progressive passing distance**: Distancia total de pases que avanzaron significativamente el juego hacia la portería contraria.\n",
    "13. **Passes attempted (short)**: Total de pases cortos intentados.\n",
    "14. **Passes completed (short)**: Total de pases cortos completados con éxito.\n",
    "15. **Passes completed (short) %**: Porcentaje de pases cortos completados con éxito.\n",
    "16. **Passes attempted (medium)**: Total de pases de distancia media intentados.\n",
    "17. **Passes completed (medium)**: Total de pases de distancia media completados con éxito.\n",
    "18. **Passes completed (medium) %**: Porcentaje de pases de distancia media completados con éxito.\n",
    "19. **Passes attempted (long)**: Total de pases largos intentados.\n",
    "20. **Passes completed (long)**: Total de pases largos completados con éxito.\n",
    "21. **Passes completed (long) %**: Porcentaje de pases largos completados con éxito.\n",
    "22. **Assists**: Asistencias a gol.\n",
    "23. **Expected Assist Goals (xAG)**: Asistencias esperadas a gol, que mide la calidad de las oportunidades de asistencia.\n",
    "24. **xA (Expected Assists)**: Asistencias esperadas, otra métrica que predice cuántas asistencias un jugador debería tener basado en la calidad de sus pases.\n",
    "25. **A-xAG (Assists minus Expected Assist Goals)**: Diferencia entre las asistencias realizadas y las asistencias esperadas.\n",
    "26. **Key Passes**: Pases que directamente crean una oportunidad clara de gol.\n",
    "27. **Passes into Final third**: Pases que avanzan el balón hacia el tercio final del campo, cerca de la portería contraria.\n",
    "28. **Passes into Penalty Area**: Pases que avanzan el balón directamente dentro del área penal contraria.\n",
    "29. **Crosses into Penalty Area**: Centros realizados hacia el área penal contraria.\n",
    "30. **Progressive passes**: Pases que mueven el balón significativamente hacia adelante hacia la portería contraria."
   ]
  },
  {
   "cell_type": "code",
   "execution_count": 7,
   "metadata": {},
   "outputs": [],
   "source": [
    "columnas_a_dropear = ['Passes attempted (short)','Passes completed (short)','Passes attempted (medium)', 'Passes completed (medium)','Passes attempted (long)','Passes completed (long)','Total passing distance','Total Passes completed', 'Total Passes attempted']\n",
    "df1.drop(columns=columnas_a_dropear, axis=1, inplace=True)\n",
    "df1.fillna(0, inplace=True)"
   ]
  },
  {
   "cell_type": "code",
   "execution_count": 8,
   "metadata": {},
   "outputs": [
    {
     "data": {
      "text/plain": [
       "Index(['Player', 'Nationality', 'Position', 'Club ', 'Age', 'Born', '90s',\n",
       "       'Total Passes completion %', 'Progressive passing distance',\n",
       "       'Passes completed (short) %', 'Passes completed (medium) %',\n",
       "       'Passes completed (long) %', 'Assists', 'Expected Assist Goals (xAG)',\n",
       "       'xA', 'A-xAG', 'Key Passes', 'Passes into Final third',\n",
       "       'Passes into Penalty Area', 'Crosses into Penalty Area',\n",
       "       'Progressive passes'],\n",
       "      dtype='object')"
      ]
     },
     "execution_count": 8,
     "metadata": {},
     "output_type": "execute_result"
    }
   ],
   "source": [
    "df1.columns"
   ]
  },
  {
   "cell_type": "code",
   "execution_count": 9,
   "metadata": {},
   "outputs": [],
   "source": [
    "df1.to_csv(r'docs\\data\\limpio\\ucl_passing.csv')"
   ]
  }
 ],
 "metadata": {
  "kernelspec": {
   "display_name": "entorno",
   "language": "python",
   "name": "python3"
  },
  "language_info": {
   "codemirror_mode": {
    "name": "ipython",
    "version": 3
   },
   "file_extension": ".py",
   "mimetype": "text/x-python",
   "name": "python",
   "nbconvert_exporter": "python",
   "pygments_lexer": "ipython3",
   "version": "3.11.5"
  }
 },
 "nbformat": 4,
 "nbformat_minor": 2
}
